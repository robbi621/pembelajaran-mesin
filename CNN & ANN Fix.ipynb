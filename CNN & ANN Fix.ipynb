{
  "nbformat": 4,
  "nbformat_minor": 0,
  "metadata": {
    "colab": {
      "name": "convolutional_neural_network (1) (1).ipynb",
      "provenance": [],
      "collapsed_sections": []
    },
    "kernelspec": {
      "name": "python3",
      "display_name": "Python 3"
    },
    "language_info": {
      "name": "python"
    }
  },
  "cells": [
    {
      "cell_type": "code",
      "metadata": {
        "colab": {
          "base_uri": "https://localhost:8080/"
        },
        "id": "TYG8HEb3Dkpa",
        "outputId": "8a699dc2-54c9-42e4-db12-d583ed9bb471"
      },
      "source": [
        "\n",
        "\n",
        "!wget -O flower_color_images.zip https://github.com/robbi621/pembelajaran-mesin/blob/main/flower_color_images.zip?raw=true\n",
        "\n"
      ],
      "execution_count": 88,
      "outputs": [
        {
          "output_type": "stream",
          "name": "stdout",
          "text": [
            "--2022-01-09 06:00:27--  https://github.com/robbi621/pembelajaran-mesin/blob/main/flower_color_images.zip?raw=true\n",
            "Resolving github.com (github.com)... 140.82.121.4\n",
            "Connecting to github.com (github.com)|140.82.121.4|:443... connected.\n",
            "HTTP request sent, awaiting response... 302 Found\n",
            "Location: https://github.com/robbi621/pembelajaran-mesin/raw/main/flower_color_images.zip [following]\n",
            "--2022-01-09 06:00:27--  https://github.com/robbi621/pembelajaran-mesin/raw/main/flower_color_images.zip\n",
            "Reusing existing connection to github.com:443.\n",
            "HTTP request sent, awaiting response... 302 Found\n",
            "Location: https://raw.githubusercontent.com/robbi621/pembelajaran-mesin/main/flower_color_images.zip [following]\n",
            "--2022-01-09 06:00:27--  https://raw.githubusercontent.com/robbi621/pembelajaran-mesin/main/flower_color_images.zip\n",
            "Resolving raw.githubusercontent.com (raw.githubusercontent.com)... 185.199.108.133, 185.199.109.133, 185.199.110.133, ...\n",
            "Connecting to raw.githubusercontent.com (raw.githubusercontent.com)|185.199.108.133|:443... connected.\n",
            "HTTP request sent, awaiting response... 200 OK\n",
            "Length: 38755089 (37M) [application/zip]\n",
            "Saving to: ‘flower_color_images.zip’\n",
            "\n",
            "flower_color_images 100%[===================>]  36.96M  --.-KB/s    in 0.1s    \n",
            "\n",
            "2022-01-09 06:00:29 (302 MB/s) - ‘flower_color_images.zip’ saved [38755089/38755089]\n",
            "\n"
          ]
        }
      ]
    },
    {
      "cell_type": "code",
      "source": [
        "import numpy as np\n",
        "import pandas as pd\n",
        "from scipy import stats\n",
        "import matplotlib.pyplot as plt\n",
        "import seaborn as sns\n",
        "import os\n",
        "from glob import glob\n",
        "from PIL import Image\n",
        "\n",
        "import keras\n",
        "from keras.utils.np_utils import to_categorical\n",
        "from keras.models import Sequential, Model\n",
        "from keras.layers import Dense, Dropout, Flatten, Conv2D, MaxPooling2D, BatchNormalization, Activation\n",
        "from keras.preprocessing.image import ImageDataGenerator\n",
        "from keras.callbacks import *\n",
        "\n",
        "from sklearn.model_selection import train_test_split\n",
        "from sklearn.preprocessing import LabelEncoder\n",
        "from sklearn.metrics import confusion_matrix\n",
        "\n",
        "np.random.seed(42)"
      ],
      "metadata": {
        "id": "ixT-jR5hbRbv"
      },
      "execution_count": 89,
      "outputs": []
    },
    {
      "cell_type": "code",
      "metadata": {
        "id": "4rtnNrFsEDIf"
      },
      "source": [
        "import zipfile, os\n",
        "\n",
        "local_zip = '/content/flower_color_images.zip'\n",
        "zip_ref = zipfile.ZipFile(local_zip, 'r')\n",
        "zip_ref.extractall('Dataset2')\n",
        "zip_ref.close()"
      ],
      "execution_count": 90,
      "outputs": []
    },
    {
      "cell_type": "code",
      "source": [
        "pip install split-folders\n"
      ],
      "metadata": {
        "colab": {
          "base_uri": "https://localhost:8080/"
        },
        "id": "Ec9wrpeeMIqo",
        "outputId": "2810f98a-6928-4b0c-b01a-0fa1d2a0eb1f"
      },
      "execution_count": 70,
      "outputs": [
        {
          "output_type": "stream",
          "name": "stdout",
          "text": [
            "Requirement already satisfied: split-folders in /usr/local/lib/python3.7/dist-packages (0.4.3)\n"
          ]
        }
      ]
    },
    {
      "cell_type": "code",
      "source": [
        "import splitfolders\n",
        "\n",
        "splitfolders.ratio('/content/Dataset2/flower_color_images', output=\"Dataset2_split\", seed=42, ratio=(.80, .19, .01), group_prefix=None)"
      ],
      "metadata": {
        "colab": {
          "base_uri": "https://localhost:8080/"
        },
        "id": "PR3UN2jcPwf3",
        "outputId": "0162b245-0ae9-4ff1-fca7-c76eda4dfbd2"
      },
      "execution_count": 91,
      "outputs": [
        {
          "output_type": "stream",
          "name": "stderr",
          "text": [
            "Copying files: 814 files [00:00, 5692.40 files/s]\n"
          ]
        }
      ]
    },
    {
      "cell_type": "code",
      "metadata": {
        "id": "y9L_1kqnEEjc"
      },
      "source": [
        "# Definisikan path untuk data train dan data validation\n",
        "\n",
        "base_dir = 'Dataset2_split'\n",
        "\n",
        "\n",
        "test_dir = os.path.join(base_dir, 'test')\n",
        "train_dir = os.path.join(base_dir, 'train')\n",
        "\n",
        "test_flowers_dir = os.path.join(test_dir, 'flowers')\n",
        "test_flower_image_dir = os.path.join(test_dir, 'flower_image')\n",
        "\n",
        "train_flowers_dir = os.path.join(train_dir, 'flowers')\n",
        "train_flower_image_dir = os.path.join(train_dir, 'flower_image')"
      ],
      "execution_count": 94,
      "outputs": []
    },
    {
      "cell_type": "code",
      "metadata": {
        "id": "9gc0BCSREF0M"
      },
      "source": [
        "import cv2\n",
        "import numpy as np\n",
        "\n",
        "# Gather data test\n",
        "test_data = []\n",
        "test_label = []\n",
        "for r, d, f in os.walk(test_dir):\n",
        "    for file in f:\n",
        "        if \".png\" in file:\n",
        "            imagePath = os.path.join(r, file)\n",
        "            image = cv2.imread(imagePath)\n",
        "            image = cv2.resize(image, (150,150))\n",
        "            test_data.append(image)\n",
        "            label = imagePath.split(os.path.sep)[-2]\n",
        "            test_label.append(label)\n",
        "\n",
        "test_data = np.array(test_data)\n",
        "test_label = np.array(test_label)"
      ],
      "execution_count": 93,
      "outputs": []
    },
    {
      "cell_type": "code",
      "metadata": {
        "id": "FuoKFhhVEG_O"
      },
      "source": [
        "# Gather data validation\n",
        "train_data = []\n",
        "train_label = []\n",
        "for r, d, f in os.walk(train_dir):\n",
        "    for file in f:\n",
        "        if \".png\" in file:\n",
        "            imagePath = os.path.join(r, file)\n",
        "            image = cv2.imread(imagePath)\n",
        "            image = cv2.resize(image, (150,150))\n",
        "            train_data.append(image)\n",
        "            label = imagePath.split(os.path.sep)[-2]\n",
        "            train_label.append(label)\n",
        "\n",
        "train_data = np.array(train_data)\n",
        "train_label = np.array(train_label)"
      ],
      "execution_count": 95,
      "outputs": []
    },
    {
      "cell_type": "markdown",
      "metadata": {
        "id": "kiXbwrN3ELqv"
      },
      "source": [
        "<h3>Data Preprocessing</h3>"
      ]
    },
    {
      "cell_type": "code",
      "metadata": {
        "colab": {
          "base_uri": "https://localhost:8080/"
        },
        "id": "m5VhnvtrEI1I",
        "outputId": "d884f69b-0cb4-4b37-c2d6-c99797f3c51d"
      },
      "source": [
        "# Tampilkan shape dari data train dan data validation\n",
        "print(\"Test Data = \", test_data.shape)\n",
        "print(\"Test Label = \", test_label.shape)\n",
        "print(\"Train Data = \", train_data.shape)\n",
        "print(\"Train Label = \", train_label.shape)"
      ],
      "execution_count": 96,
      "outputs": [
        {
          "output_type": "stream",
          "name": "stdout",
          "text": [
            "Test Data =  (10, 150, 150, 3)\n",
            "Test Label =  (10,)\n",
            "Train Data =  (649, 150, 150, 3)\n",
            "Train Label =  (649,)\n"
          ]
        }
      ]
    },
    {
      "cell_type": "code",
      "metadata": {
        "colab": {
          "base_uri": "https://localhost:8080/"
        },
        "id": "q1LVp6dCENne",
        "outputId": "eccaf7dc-1b78-4b61-a29b-acfbcb3cf3e8"
      },
      "source": [
        "# Normalisasi dataset\n",
        "print(\"Data sebelum di-normalisasi \", test_data[0][0][0])\n",
        "\n",
        "x_test = test_data.astype('float32') / 255.0\n",
        "x_train = train_data.astype('float32') / 255.0\n",
        "print(\"Data setelah di-normalisasi \", x_test[0][0][0])"
      ],
      "execution_count": 97,
      "outputs": [
        {
          "output_type": "stream",
          "name": "stdout",
          "text": [
            "Data sebelum di-normalisasi  [37 44 47]\n",
            "Data setelah di-normalisasi  [0.14509805 0.17254902 0.18431373]\n"
          ]
        }
      ]
    },
    {
      "cell_type": "code",
      "metadata": {
        "colab": {
          "base_uri": "https://localhost:8080/"
        },
        "id": "tc7FivC6EPhm",
        "outputId": "189f9bf1-f008-4ff7-bb8a-d0fed3d47ad5"
      },
      "source": [
        "# Transformasi label encoder\n",
        "from sklearn.preprocessing import LabelEncoder\n",
        "\n",
        "print(\"Label sebelum di-encoder \", test_label[100:110])\n",
        "\n",
        "lb = LabelEncoder()\n",
        "y_test = lb.fit_transform(test_label)\n",
        "y_train = lb.fit_transform(train_label)\n",
        "\n",
        "print(\"Label setelah di-encoder \", y_test[100:110])"
      ],
      "execution_count": 98,
      "outputs": [
        {
          "output_type": "stream",
          "name": "stdout",
          "text": [
            "Label sebelum di-encoder  []\n",
            "Label setelah di-encoder  []\n"
          ]
        }
      ]
    },
    {
      "cell_type": "markdown",
      "metadata": {
        "id": "4jVWbOhOEzQJ"
      },
      "source": [
        "<h3>Definisikan Model CNN</h3>"
      ]
    },
    {
      "cell_type": "code",
      "metadata": {
        "id": "usLiFiwAEvVb"
      },
      "source": [
        "from tensorflow.keras.models import Sequential\n",
        "from tensorflow.keras.layers import InputLayer, Dense, Conv2D, MaxPool2D, Flatten"
      ],
      "execution_count": 99,
      "outputs": []
    },
    {
      "cell_type": "code",
      "metadata": {
        "id": "rDwzxacpE1ei",
        "colab": {
          "base_uri": "https://localhost:8080/"
        },
        "outputId": "3b58d47c-db19-40d6-8aee-1db8ebd3c1e2"
      },
      "source": [
        "# building a linear stack of layers with the sequential model\n",
        "\n",
        "model = Sequential()\n",
        "\n",
        "model.add(Conv2D(32, (3, 3), input_shape=(x_train.shape[1:])))\n",
        "model.add(Activation(\"relu\"))\n",
        "model.add(MaxPool2D(2, 2, padding=\"same\"))\n",
        "model.add(Dropout(0.2))\n",
        "\n",
        "model.add(Conv2D(64, (3, 3)))\n",
        "model.add(Activation(\"relu\"))\n",
        "model.add(MaxPool2D(2, 2, padding=\"same\"))\n",
        "model.add(Dropout(0.2))\n",
        "\n",
        "model.add(Conv2D(128, (3, 3)))\n",
        "model.add(Activation(\"relu\"))\n",
        "model.add(MaxPool2D(2, 2, padding=\"same\"))\n",
        "model.add(Dropout(0.2))\n",
        "\n",
        "model.add(Flatten())\n",
        "model.add(Dense(512, activation=\"relu\"))\n",
        "model.add(Dropout(0.2))\n",
        "model.add(Dense(128, activation=\"relu\"))\n",
        "model.add(Dropout(0.2))\n",
        "model.add(Dense(1, activation=\"softmax\"))\n",
        "\n",
        "# compiling the sequential model\n",
        "model.compile(loss=\"binary_crossentropy\", optimizer=\"adam\", metrics=[\"accuracy\"])\n",
        "\n",
        "model.summary()"
      ],
      "execution_count": 119,
      "outputs": [
        {
          "output_type": "stream",
          "name": "stdout",
          "text": [
            "Model: \"sequential_5\"\n",
            "_________________________________________________________________\n",
            " Layer (type)                Output Shape              Param #   \n",
            "=================================================================\n",
            " conv2d_15 (Conv2D)          (None, 148, 148, 32)      896       \n",
            "                                                                 \n",
            " activation_9 (Activation)   (None, 148, 148, 32)      0         \n",
            "                                                                 \n",
            " max_pooling2d_15 (MaxPoolin  (None, 74, 74, 32)       0         \n",
            " g2D)                                                            \n",
            "                                                                 \n",
            " dropout_15 (Dropout)        (None, 74, 74, 32)        0         \n",
            "                                                                 \n",
            " conv2d_16 (Conv2D)          (None, 72, 72, 64)        18496     \n",
            "                                                                 \n",
            " activation_10 (Activation)  (None, 72, 72, 64)        0         \n",
            "                                                                 \n",
            " max_pooling2d_16 (MaxPoolin  (None, 36, 36, 64)       0         \n",
            " g2D)                                                            \n",
            "                                                                 \n",
            " dropout_16 (Dropout)        (None, 36, 36, 64)        0         \n",
            "                                                                 \n",
            " conv2d_17 (Conv2D)          (None, 34, 34, 128)       73856     \n",
            "                                                                 \n",
            " activation_11 (Activation)  (None, 34, 34, 128)       0         \n",
            "                                                                 \n",
            " max_pooling2d_17 (MaxPoolin  (None, 17, 17, 128)      0         \n",
            " g2D)                                                            \n",
            "                                                                 \n",
            " dropout_17 (Dropout)        (None, 17, 17, 128)       0         \n",
            "                                                                 \n",
            " flatten_5 (Flatten)         (None, 36992)             0         \n",
            "                                                                 \n",
            " dense_12 (Dense)            (None, 512)               18940416  \n",
            "                                                                 \n",
            " dropout_18 (Dropout)        (None, 512)               0         \n",
            "                                                                 \n",
            " dense_13 (Dense)            (None, 128)               65664     \n",
            "                                                                 \n",
            " dropout_19 (Dropout)        (None, 128)               0         \n",
            "                                                                 \n",
            " dense_14 (Dense)            (None, 1)                 129       \n",
            "                                                                 \n",
            "=================================================================\n",
            "Total params: 19,099,457\n",
            "Trainable params: 19,099,457\n",
            "Non-trainable params: 0\n",
            "_________________________________________________________________\n"
          ]
        }
      ]
    },
    {
      "cell_type": "code",
      "metadata": {
        "id": "Sud1AUF0E2k8"
      },
      "source": [
        "# Fully Connected Layer\n",
        "model.add(Dense(128, activation='relu'))\n",
        "model.add(Dense(1, activation='sigmoid'))"
      ],
      "execution_count": 106,
      "outputs": []
    },
    {
      "cell_type": "code",
      "metadata": {
        "colab": {
          "base_uri": "https://localhost:8080/"
        },
        "id": "XW-KE9ePE466",
        "outputId": "7ff65e04-9754-4f52-d2cb-df88d5e759ed"
      },
      "source": [
        "# Print model summary\n",
        "print(model.summary())"
      ],
      "execution_count": 112,
      "outputs": [
        {
          "output_type": "stream",
          "name": "stdout",
          "text": [
            "Model: \"sequential_2\"\n",
            "_________________________________________________________________\n",
            " Layer (type)                Output Shape              Param #   \n",
            "=================================================================\n",
            " conv2d_6 (Conv2D)           (None, 148, 148, 32)      896       \n",
            "                                                                 \n",
            " activation (Activation)     (None, 148, 148, 32)      0         \n",
            "                                                                 \n",
            " max_pooling2d_6 (MaxPooling  (None, 74, 74, 32)       0         \n",
            " 2D)                                                             \n",
            "                                                                 \n",
            " dropout (Dropout)           (None, 74, 74, 32)        0         \n",
            "                                                                 \n",
            " conv2d_7 (Conv2D)           (None, 72, 72, 64)        18496     \n",
            "                                                                 \n",
            " activation_1 (Activation)   (None, 72, 72, 64)        0         \n",
            "                                                                 \n",
            " max_pooling2d_7 (MaxPooling  (None, 36, 36, 64)       0         \n",
            " 2D)                                                             \n",
            "                                                                 \n",
            " dropout_1 (Dropout)         (None, 36, 36, 64)        0         \n",
            "                                                                 \n",
            " conv2d_8 (Conv2D)           (None, 34, 34, 128)       73856     \n",
            "                                                                 \n",
            " activation_2 (Activation)   (None, 34, 34, 128)       0         \n",
            "                                                                 \n",
            " max_pooling2d_8 (MaxPooling  (None, 17, 17, 128)      0         \n",
            " 2D)                                                             \n",
            "                                                                 \n",
            " dropout_2 (Dropout)         (None, 17, 17, 128)       0         \n",
            "                                                                 \n",
            " flatten_2 (Flatten)         (None, 36992)             0         \n",
            "                                                                 \n",
            " dense_4 (Dense)             (None, 512)               18940416  \n",
            "                                                                 \n",
            " dropout_3 (Dropout)         (None, 512)               0         \n",
            "                                                                 \n",
            " dense_5 (Dense)             (None, 128)               65664     \n",
            "                                                                 \n",
            " dropout_4 (Dropout)         (None, 128)               0         \n",
            "                                                                 \n",
            " dense_6 (Dense)             (None, 5)                 645       \n",
            "                                                                 \n",
            "=================================================================\n",
            "Total params: 19,099,973\n",
            "Trainable params: 19,099,973\n",
            "Non-trainable params: 0\n",
            "_________________________________________________________________\n",
            "None\n"
          ]
        }
      ]
    },
    {
      "cell_type": "code",
      "metadata": {
        "colab": {
          "base_uri": "https://localhost:8080/"
        },
        "id": "Tais64D7E5Zo",
        "outputId": "763f1533-eb66-4c00-fa9d-a62da855ab7e"
      },
      "source": [
        "# Compile model\n",
        "from tensorflow.keras.optimizers import Adam\n",
        "\n",
        "model.compile(optimizer=Adam(lr=0.001), \n",
        "              loss='binary_crossentropy', \n",
        "              metrics=['acc'])"
      ],
      "execution_count": 113,
      "outputs": [
        {
          "output_type": "stream",
          "name": "stderr",
          "text": [
            "/usr/local/lib/python3.7/dist-packages/keras/optimizer_v2/adam.py:105: UserWarning: The `lr` argument is deprecated, use `learning_rate` instead.\n",
            "  super(Adam, self).__init__(name, **kwargs)\n"
          ]
        }
      ]
    },
    {
      "cell_type": "markdown",
      "metadata": {
        "id": "NTNBH19iE8kt"
      },
      "source": [
        "<h3>Training Model</h3>"
      ]
    },
    {
      "cell_type": "code",
      "metadata": {
        "colab": {
          "base_uri": "https://localhost:8080/"
        },
        "id": "p4Vr8dyvE6pM",
        "outputId": "7da42647-a5a9-4d33-a21f-374abbd8af5f"
      },
      "source": [
        "# training the model for 10 epochs\n",
        "history = model.fit(x_train, y_train, batch_size = 20, epochs=20, validation_data=(x_test, y_test))"
      ],
      "execution_count": 121,
      "outputs": [
        {
          "output_type": "stream",
          "name": "stdout",
          "text": [
            "Epoch 1/20\n",
            "33/33 [==============================] - 22s 665ms/step - loss: 0.5719 - accuracy: 0.7427 - val_loss: 0.6144 - val_accuracy: 0.7000\n",
            "Epoch 2/20\n",
            "33/33 [==============================] - 22s 660ms/step - loss: 0.5650 - accuracy: 0.7427 - val_loss: 0.6273 - val_accuracy: 0.7000\n",
            "Epoch 3/20\n",
            "33/33 [==============================] - 22s 660ms/step - loss: 0.5718 - accuracy: 0.7427 - val_loss: 0.6186 - val_accuracy: 0.7000\n",
            "Epoch 4/20\n",
            "33/33 [==============================] - 22s 667ms/step - loss: 0.5650 - accuracy: 0.7427 - val_loss: 0.6290 - val_accuracy: 0.7000\n",
            "Epoch 5/20\n",
            "33/33 [==============================] - 22s 663ms/step - loss: 0.5620 - accuracy: 0.7427 - val_loss: 0.6373 - val_accuracy: 0.7000\n",
            "Epoch 6/20\n",
            "33/33 [==============================] - 22s 665ms/step - loss: 0.5495 - accuracy: 0.7427 - val_loss: 0.6698 - val_accuracy: 0.7000\n",
            "Epoch 7/20\n",
            "33/33 [==============================] - 22s 660ms/step - loss: 0.5358 - accuracy: 0.7427 - val_loss: 0.6936 - val_accuracy: 0.7000\n",
            "Epoch 8/20\n",
            "33/33 [==============================] - 22s 660ms/step - loss: 0.5298 - accuracy: 0.7427 - val_loss: 0.7056 - val_accuracy: 0.7000\n",
            "Epoch 9/20\n",
            "33/33 [==============================] - 22s 657ms/step - loss: 0.5154 - accuracy: 0.7427 - val_loss: 0.7871 - val_accuracy: 0.7000\n",
            "Epoch 10/20\n",
            "33/33 [==============================] - 22s 665ms/step - loss: 0.5040 - accuracy: 0.7427 - val_loss: 0.9168 - val_accuracy: 0.7000\n",
            "Epoch 11/20\n",
            "33/33 [==============================] - 22s 664ms/step - loss: 0.4901 - accuracy: 0.7427 - val_loss: 0.8340 - val_accuracy: 0.7000\n",
            "Epoch 12/20\n",
            "33/33 [==============================] - 22s 660ms/step - loss: 0.4544 - accuracy: 0.7427 - val_loss: 1.2503 - val_accuracy: 0.7000\n",
            "Epoch 13/20\n",
            "33/33 [==============================] - 22s 664ms/step - loss: 0.4346 - accuracy: 0.7427 - val_loss: 1.2048 - val_accuracy: 0.7000\n",
            "Epoch 14/20\n",
            "33/33 [==============================] - 22s 662ms/step - loss: 0.4292 - accuracy: 0.7427 - val_loss: 0.9305 - val_accuracy: 0.7000\n",
            "Epoch 15/20\n",
            "33/33 [==============================] - 22s 658ms/step - loss: 0.4088 - accuracy: 0.7427 - val_loss: 1.3285 - val_accuracy: 0.7000\n",
            "Epoch 16/20\n",
            "33/33 [==============================] - 22s 663ms/step - loss: 0.4152 - accuracy: 0.7427 - val_loss: 1.6072 - val_accuracy: 0.7000\n",
            "Epoch 17/20\n",
            "33/33 [==============================] - 22s 668ms/step - loss: 0.3945 - accuracy: 0.7427 - val_loss: 1.7530 - val_accuracy: 0.7000\n",
            "Epoch 18/20\n",
            "33/33 [==============================] - 22s 666ms/step - loss: 0.3814 - accuracy: 0.7427 - val_loss: 2.0443 - val_accuracy: 0.7000\n",
            "Epoch 19/20\n",
            "33/33 [==============================] - 22s 659ms/step - loss: 0.3789 - accuracy: 0.7427 - val_loss: 2.2296 - val_accuracy: 0.7000\n",
            "Epoch 20/20\n",
            "33/33 [==============================] - 22s 662ms/step - loss: 0.3560 - accuracy: 0.7427 - val_loss: 2.5070 - val_accuracy: 0.7000\n"
          ]
        }
      ]
    },
    {
      "cell_type": "markdown",
      "metadata": {
        "id": "HuxjW35RFCZ6"
      },
      "source": [
        "<h3>Evaluasi Model</h3>"
      ]
    },
    {
      "cell_type": "code",
      "metadata": {
        "colab": {
          "base_uri": "https://localhost:8080/",
          "height": 295
        },
        "id": "vm5YyYqkREl7",
        "outputId": "a9dcaa68-1ba2-4497-d1bf-16790ecba47c"
      },
      "source": [
        "%matplotlib inline\n",
        "\n",
        "import matplotlib.pyplot as plt\n",
        "\n",
        "plt.plot(history.history['loss'])\n",
        "plt.plot(history.history['val_loss'])\n",
        "plt.title('Model Loss')\n",
        "plt.ylabel('Loss')\n",
        "plt.xlabel('Epochs')\n",
        "plt.legend(['train', 'test'])\n",
        "plt.show()"
      ],
      "execution_count": 122,
      "outputs": [
        {
          "output_type": "display_data",
          "data": {
            "image/png": "[encoded data removed]",
            "text/plain": [
              "<Figure size 432x288 with 1 Axes>"
            ]
          },
          "metadata": {
            "needs_background": "light"
          }
        }
      ]
    },
    {
      "cell_type": "code",
      "metadata": {
        "colab": {
          "base_uri": "https://localhost:8080/",
          "height": 246
        },
        "id": "NCcgSU7kSZwm",
        "outputId": "8539694d-b489-4b8e-f40a-b45643b0f171"
      },
      "source": [
        "plt.plot(history.history['acc'])\n",
        "plt.plot(history.history['val_acc'])\n",
        "plt.title('Model Accuracy')\n",
        "plt.ylabel('Accuracy')\n",
        "plt.xlabel('Epochs')\n",
        "plt.legend(['train', 'test'])\n",
        "plt.show()"
      ],
      "execution_count": 123,
      "outputs": [
        {
          "output_type": "error",
          "ename": "KeyError",
          "evalue": "ignored",
          "traceback": [
            "\u001b[0;31m---------------------------------------------------------------------------\u001b[0m",
            "\u001b[0;31mKeyError\u001b[0m                                  Traceback (most recent call last)",
            "\u001b[0;32m<ipython-input-123-de10639055fb>\u001b[0m in \u001b[0;36m<module>\u001b[0;34m()\u001b[0m\n\u001b[0;32m----> 1\u001b[0;31m \u001b[0mplt\u001b[0m\u001b[0;34m.\u001b[0m\u001b[0mplot\u001b[0m\u001b[0;34m(\u001b[0m\u001b[0mhistory\u001b[0m\u001b[0;34m.\u001b[0m\u001b[0mhistory\u001b[0m\u001b[0;34m[\u001b[0m\u001b[0;34m'acc'\u001b[0m\u001b[0;34m]\u001b[0m\u001b[0;34m)\u001b[0m\u001b[0;34m\u001b[0m\u001b[0;34m\u001b[0m\u001b[0m\n\u001b[0m\u001b[1;32m      2\u001b[0m \u001b[0mplt\u001b[0m\u001b[0;34m.\u001b[0m\u001b[0mplot\u001b[0m\u001b[0;34m(\u001b[0m\u001b[0mhistory\u001b[0m\u001b[0;34m.\u001b[0m\u001b[0mhistory\u001b[0m\u001b[0;34m[\u001b[0m\u001b[0;34m'val_acc'\u001b[0m\u001b[0;34m]\u001b[0m\u001b[0;34m)\u001b[0m\u001b[0;34m\u001b[0m\u001b[0;34m\u001b[0m\u001b[0m\n\u001b[1;32m      3\u001b[0m \u001b[0mplt\u001b[0m\u001b[0;34m.\u001b[0m\u001b[0mtitle\u001b[0m\u001b[0;34m(\u001b[0m\u001b[0;34m'Model Accuracy'\u001b[0m\u001b[0;34m)\u001b[0m\u001b[0;34m\u001b[0m\u001b[0;34m\u001b[0m\u001b[0m\n\u001b[1;32m      4\u001b[0m \u001b[0mplt\u001b[0m\u001b[0;34m.\u001b[0m\u001b[0mylabel\u001b[0m\u001b[0;34m(\u001b[0m\u001b[0;34m'Accuracy'\u001b[0m\u001b[0;34m)\u001b[0m\u001b[0;34m\u001b[0m\u001b[0;34m\u001b[0m\u001b[0m\n\u001b[1;32m      5\u001b[0m \u001b[0mplt\u001b[0m\u001b[0;34m.\u001b[0m\u001b[0mxlabel\u001b[0m\u001b[0;34m(\u001b[0m\u001b[0;34m'Epochs'\u001b[0m\u001b[0;34m)\u001b[0m\u001b[0;34m\u001b[0m\u001b[0;34m\u001b[0m\u001b[0m\n",
            "\u001b[0;31mKeyError\u001b[0m: 'acc'"
          ]
        }
      ]
    },
    {
      "cell_type": "code",
      "metadata": {
        "colab": {
          "base_uri": "https://localhost:8080/"
        },
        "id": "H_8mB3igFG-x",
        "outputId": "540c9804-7eca-4deb-a5c5-c7a29aaa16c2"
      },
      "source": [
        "from sklearn.metrics import classification_report\n",
        "\n",
        "pred = model.predict(x_train)\n",
        "labels = (pred > 0.5).astype(np.int)\n",
        "\n",
        "print(classification_report(y_train, labels))"
      ],
      "execution_count": 124,
      "outputs": [
        {
          "output_type": "stream",
          "name": "stdout",
          "text": [
            "              precision    recall  f1-score   support\n",
            "\n",
            "           0       0.00      0.00      0.00       167\n",
            "           1       0.74      1.00      0.85       482\n",
            "\n",
            "    accuracy                           0.74       649\n",
            "   macro avg       0.37      0.50      0.43       649\n",
            "weighted avg       0.55      0.74      0.63       649\n",
            "\n"
          ]
        },
        {
          "output_type": "stream",
          "name": "stderr",
          "text": [
            "/usr/local/lib/python3.7/dist-packages/sklearn/metrics/_classification.py:1308: UndefinedMetricWarning: Precision and F-score are ill-defined and being set to 0.0 in labels with no predicted samples. Use `zero_division` parameter to control this behavior.\n",
            "  _warn_prf(average, modifier, msg_start, len(result))\n",
            "/usr/local/lib/python3.7/dist-packages/sklearn/metrics/_classification.py:1308: UndefinedMetricWarning: Precision and F-score are ill-defined and being set to 0.0 in labels with no predicted samples. Use `zero_division` parameter to control this behavior.\n",
            "  _warn_prf(average, modifier, msg_start, len(result))\n",
            "/usr/local/lib/python3.7/dist-packages/sklearn/metrics/_classification.py:1308: UndefinedMetricWarning: Precision and F-score are ill-defined and being set to 0.0 in labels with no predicted samples. Use `zero_division` parameter to control this behavior.\n",
            "  _warn_prf(average, modifier, msg_start, len(result))\n"
          ]
        }
      ]
    },
    {
      "cell_type": "code",
      "metadata": {
        "id": "9wFSUK9Yuttv"
      },
      "source": [
        "from keras.models import save_model\n",
        "model = save_model(model,'tugas6cnn.h5')"
      ],
      "execution_count": 125,
      "outputs": []
    },
    {
      "cell_type": "code",
      "source": [
        ""
      ],
      "metadata": {
        "id": "je3c8qCM7DYm"
      },
      "execution_count": null,
      "outputs": []
    },
    {
      "cell_type": "code",
      "source": [
        ""
      ],
      "metadata": {
        "id": "ihcaIPpji_xw"
      },
      "execution_count": null,
      "outputs": []
    },
    {
      "cell_type": "markdown",
      "source": [
        "MODEL CNN\n"
      ],
      "metadata": {
        "id": "axQ8ei0RjAit"
      }
    },
    {
      "cell_type": "code",
      "source": [
        "\n",
        "\n",
        "from tensorflow.keras import layers\n",
        "from tensorflow.keras import Model\n",
        "\n",
        "# Buat model dengan 1 input layer, 1 hidden layer, dan 1 output layer\n",
        "img_input = layers.Input(shape=(150, 150, 3)) # layer input\n",
        "x = layers.Flatten()(img_input) # ubah dari matriks 150x150x3 menjadi vektor\n",
        "x = layers.Dense(64, activation='relu')(x) # hidden layer 1 dengan 128 neuron\n",
        "output = layers.Dense(1, activation='sigmoid')(x) # output layer dengan 1 neuron (binary)\n",
        "\n",
        "# Definisikan modelnya\n",
        "model = Model(img_input, output)\n",
        "\n",
        "# Tampilkan model summary\n",
        "model.summary()\n",
        "\n"
      ],
      "metadata": {
        "colab": {
          "base_uri": "https://localhost:8080/"
        },
        "id": "Byvn-ugOjD1c",
        "outputId": "44d044bd-e0f9-448d-fcc9-542aaf977020"
      },
      "execution_count": 132,
      "outputs": [
        {
          "output_type": "stream",
          "name": "stdout",
          "text": [
            "Model: \"model\"\n",
            "_________________________________________________________________\n",
            " Layer (type)                Output Shape              Param #   \n",
            "=================================================================\n",
            " input_4 (InputLayer)        [(None, 150, 150, 3)]     0         \n",
            "                                                                 \n",
            " flatten_7 (Flatten)         (None, 67500)             0         \n",
            "                                                                 \n",
            " dense_16 (Dense)            (None, 64)                4320064   \n",
            "                                                                 \n",
            " dense_17 (Dense)            (None, 1)                 65        \n",
            "                                                                 \n",
            "=================================================================\n",
            "Total params: 4,320,129\n",
            "Trainable params: 4,320,129\n",
            "Non-trainable params: 0\n",
            "_________________________________________________________________\n"
          ]
        }
      ]
    },
    {
      "cell_type": "code",
      "source": [
        "from tensorflow.keras.optimizers import Adam\n",
        "\n",
        "# Compile model\n",
        "model.compile(loss='binary_crossentropy',\n",
        "              optimizer=Adam(lr=0.001),\n",
        "              metrics=['acc'])"
      ],
      "metadata": {
        "colab": {
          "base_uri": "https://localhost:8080/"
        },
        "id": "NEPMZX-qjFz5",
        "outputId": "b56d5e64-9b82-42b0-942a-f5a1516e19f1"
      },
      "execution_count": 133,
      "outputs": [
        {
          "output_type": "stream",
          "name": "stderr",
          "text": [
            "/usr/local/lib/python3.7/dist-packages/keras/optimizer_v2/adam.py:105: UserWarning: The `lr` argument is deprecated, use `learning_rate` instead.\n",
            "  super(Adam, self).__init__(name, **kwargs)\n"
          ]
        }
      ]
    },
    {
      "cell_type": "code",
      "source": [
        "H = model.fit(x_train, y_train, batch_size=20, epochs=50, validation_data=(x_test, y_test ))"
      ],
      "metadata": {
        "colab": {
          "base_uri": "https://localhost:8080/"
        },
        "id": "O70d2OLsjLic",
        "outputId": "9bf217bd-17c8-4d02-fd5a-db9b5bf3b3a7"
      },
      "execution_count": 134,
      "outputs": [
        {
          "output_type": "stream",
          "name": "stdout",
          "text": [
            "Epoch 1/50\n",
            "33/33 [==============================] - 1s 22ms/step - loss: 6.2597 - acc: 0.6025 - val_loss: 2.8102 - val_acc: 0.7000\n",
            "Epoch 2/50\n",
            "33/33 [==============================] - 1s 18ms/step - loss: 0.9791 - acc: 0.6656 - val_loss: 1.4936 - val_acc: 0.5000\n",
            "Epoch 3/50\n",
            "33/33 [==============================] - 1s 18ms/step - loss: 1.1072 - acc: 0.6271 - val_loss: 1.1363 - val_acc: 0.6000\n",
            "Epoch 4/50\n",
            "33/33 [==============================] - 1s 18ms/step - loss: 0.8987 - acc: 0.6872 - val_loss: 0.8625 - val_acc: 0.5000\n",
            "Epoch 5/50\n",
            "33/33 [==============================] - 1s 18ms/step - loss: 0.7085 - acc: 0.7119 - val_loss: 1.9174 - val_acc: 0.3000\n",
            "Epoch 6/50\n",
            "33/33 [==============================] - 1s 19ms/step - loss: 1.1787 - acc: 0.6549 - val_loss: 1.9167 - val_acc: 0.1000\n",
            "Epoch 7/50\n",
            "33/33 [==============================] - 1s 18ms/step - loss: 0.6797 - acc: 0.7227 - val_loss: 1.4904 - val_acc: 0.4000\n",
            "Epoch 8/50\n",
            "33/33 [==============================] - 1s 18ms/step - loss: 0.6516 - acc: 0.7103 - val_loss: 1.7169 - val_acc: 0.2000\n",
            "Epoch 9/50\n",
            "33/33 [==============================] - 1s 18ms/step - loss: 0.5298 - acc: 0.7535 - val_loss: 1.8450 - val_acc: 0.6000\n",
            "Epoch 10/50\n",
            "33/33 [==============================] - 1s 18ms/step - loss: 1.2841 - acc: 0.6780 - val_loss: 1.9708 - val_acc: 0.1000\n",
            "Epoch 11/50\n",
            "33/33 [==============================] - 1s 18ms/step - loss: 0.7234 - acc: 0.7334 - val_loss: 1.6848 - val_acc: 0.5000\n",
            "Epoch 12/50\n",
            "33/33 [==============================] - 1s 19ms/step - loss: 0.7393 - acc: 0.7504 - val_loss: 1.7113 - val_acc: 0.7000\n",
            "Epoch 13/50\n",
            "33/33 [==============================] - 1s 19ms/step - loss: 0.7855 - acc: 0.7103 - val_loss: 2.4564 - val_acc: 0.2000\n",
            "Epoch 14/50\n",
            "33/33 [==============================] - 1s 18ms/step - loss: 1.1320 - acc: 0.7242 - val_loss: 2.3908 - val_acc: 0.2000\n",
            "Epoch 15/50\n",
            "33/33 [==============================] - 1s 18ms/step - loss: 0.5527 - acc: 0.7581 - val_loss: 1.9966 - val_acc: 0.5000\n",
            "Epoch 16/50\n",
            "33/33 [==============================] - 1s 19ms/step - loss: 0.6759 - acc: 0.7411 - val_loss: 2.7285 - val_acc: 0.3000\n",
            "Epoch 17/50\n",
            "33/33 [==============================] - 1s 19ms/step - loss: 0.5751 - acc: 0.7673 - val_loss: 2.3505 - val_acc: 0.1000\n",
            "Epoch 18/50\n",
            "33/33 [==============================] - 1s 19ms/step - loss: 0.9547 - acc: 0.7196 - val_loss: 2.8239 - val_acc: 0.7000\n",
            "Epoch 19/50\n",
            "33/33 [==============================] - 1s 19ms/step - loss: 1.3664 - acc: 0.6934 - val_loss: 2.4211 - val_acc: 0.6000\n",
            "Epoch 20/50\n",
            "33/33 [==============================] - 1s 19ms/step - loss: 1.0612 - acc: 0.7288 - val_loss: 2.5803 - val_acc: 0.5000\n",
            "Epoch 21/50\n",
            "33/33 [==============================] - 1s 18ms/step - loss: 1.0535 - acc: 0.7072 - val_loss: 2.4123 - val_acc: 0.3000\n",
            "Epoch 22/50\n",
            "33/33 [==============================] - 1s 19ms/step - loss: 0.5668 - acc: 0.7812 - val_loss: 2.5888 - val_acc: 0.4000\n",
            "Epoch 23/50\n",
            "33/33 [==============================] - 1s 19ms/step - loss: 0.4742 - acc: 0.7889 - val_loss: 2.5182 - val_acc: 0.3000\n",
            "Epoch 24/50\n",
            "33/33 [==============================] - 1s 19ms/step - loss: 0.4603 - acc: 0.7843 - val_loss: 2.3343 - val_acc: 0.3000\n",
            "Epoch 25/50\n",
            "33/33 [==============================] - 1s 18ms/step - loss: 0.5963 - acc: 0.7627 - val_loss: 2.3891 - val_acc: 0.4000\n",
            "Epoch 26/50\n",
            "33/33 [==============================] - 1s 17ms/step - loss: 0.4338 - acc: 0.7858 - val_loss: 2.5121 - val_acc: 0.3000\n",
            "Epoch 27/50\n",
            "33/33 [==============================] - 1s 18ms/step - loss: 0.4045 - acc: 0.7673 - val_loss: 2.3056 - val_acc: 0.4000\n",
            "Epoch 28/50\n",
            "33/33 [==============================] - 1s 19ms/step - loss: 0.5348 - acc: 0.7689 - val_loss: 2.9555 - val_acc: 0.3000\n",
            "Epoch 29/50\n",
            "33/33 [==============================] - 1s 18ms/step - loss: 0.8159 - acc: 0.7643 - val_loss: 3.1082 - val_acc: 0.1000\n",
            "Epoch 30/50\n",
            "33/33 [==============================] - 1s 18ms/step - loss: 0.7696 - acc: 0.7350 - val_loss: 2.3266 - val_acc: 0.5000\n",
            "Epoch 31/50\n",
            "33/33 [==============================] - 1s 18ms/step - loss: 0.4788 - acc: 0.7612 - val_loss: 2.2223 - val_acc: 0.5000\n",
            "Epoch 32/50\n",
            "33/33 [==============================] - 1s 17ms/step - loss: 0.5144 - acc: 0.7951 - val_loss: 2.4312 - val_acc: 0.3000\n",
            "Epoch 33/50\n",
            "33/33 [==============================] - 1s 18ms/step - loss: 0.4025 - acc: 0.7935 - val_loss: 2.3805 - val_acc: 0.3000\n",
            "Epoch 34/50\n",
            "33/33 [==============================] - 1s 19ms/step - loss: 0.3890 - acc: 0.7874 - val_loss: 2.3878 - val_acc: 0.3000\n",
            "Epoch 35/50\n",
            "33/33 [==============================] - 1s 18ms/step - loss: 0.3843 - acc: 0.7704 - val_loss: 2.1971 - val_acc: 0.3000\n",
            "Epoch 36/50\n",
            "33/33 [==============================] - 1s 18ms/step - loss: 0.5957 - acc: 0.7535 - val_loss: 2.5115 - val_acc: 0.5000\n",
            "Epoch 37/50\n",
            "33/33 [==============================] - 1s 19ms/step - loss: 0.7463 - acc: 0.7565 - val_loss: 2.3175 - val_acc: 0.5000\n",
            "Epoch 38/50\n",
            "33/33 [==============================] - 1s 18ms/step - loss: 0.8912 - acc: 0.7026 - val_loss: 2.2862 - val_acc: 0.5000\n",
            "Epoch 39/50\n",
            "33/33 [==============================] - 1s 19ms/step - loss: 0.7230 - acc: 0.7427 - val_loss: 2.1214 - val_acc: 0.3000\n",
            "Epoch 40/50\n",
            "33/33 [==============================] - 1s 18ms/step - loss: 0.6285 - acc: 0.7519 - val_loss: 2.3495 - val_acc: 0.3000\n",
            "Epoch 41/50\n",
            "33/33 [==============================] - 1s 19ms/step - loss: 0.4394 - acc: 0.7889 - val_loss: 2.1983 - val_acc: 0.3000\n",
            "Epoch 42/50\n",
            "33/33 [==============================] - 1s 18ms/step - loss: 0.7418 - acc: 0.7488 - val_loss: 2.3440 - val_acc: 0.5000\n",
            "Epoch 43/50\n",
            "33/33 [==============================] - 1s 18ms/step - loss: 0.5830 - acc: 0.7673 - val_loss: 2.6368 - val_acc: 0.2000\n",
            "Epoch 44/50\n",
            "33/33 [==============================] - 1s 19ms/step - loss: 0.5209 - acc: 0.7766 - val_loss: 2.1703 - val_acc: 0.3000\n",
            "Epoch 45/50\n",
            "33/33 [==============================] - 1s 19ms/step - loss: 0.5214 - acc: 0.7581 - val_loss: 2.1894 - val_acc: 0.5000\n",
            "Epoch 46/50\n",
            "33/33 [==============================] - 1s 18ms/step - loss: 0.4530 - acc: 0.7519 - val_loss: 2.2041 - val_acc: 0.3000\n",
            "Epoch 47/50\n",
            "33/33 [==============================] - 1s 18ms/step - loss: 0.5525 - acc: 0.7689 - val_loss: 2.1949 - val_acc: 0.3000\n",
            "Epoch 48/50\n",
            "33/33 [==============================] - 1s 18ms/step - loss: 0.4380 - acc: 0.7658 - val_loss: 2.0244 - val_acc: 0.3000\n",
            "Epoch 49/50\n",
            "33/33 [==============================] - 1s 18ms/step - loss: 0.5077 - acc: 0.7843 - val_loss: 2.0854 - val_acc: 0.6000\n",
            "Epoch 50/50\n",
            "33/33 [==============================] - 1s 18ms/step - loss: 0.4708 - acc: 0.7720 - val_loss: 2.0333 - val_acc: 0.3000\n"
          ]
        }
      ]
    },
    {
      "cell_type": "code",
      "source": [
        "plt.style.use(\"ggplot\")\n",
        "plt.figure()\n",
        "plt.plot(np.arange(0, 50), H.history[\"loss\"], label=\"train_loss\")\n",
        "plt.plot(np.arange(0, 50), H.history[\"val_loss\"], label=\"val_loss\")\n",
        "plt.title(\"Loss Plot\")\n",
        "plt.xlabel(\"Epoch #\")\n",
        "plt.ylabel(\"Loss\")\n",
        "plt.legend()\n",
        "plt.show()\n",
        "\n",
        "plt.style.use(\"ggplot\")\n",
        "plt.figure()\n",
        "plt.plot(np.arange(0, 50), H.history[\"acc\"], label=\"train_acc\")\n",
        "plt.plot(np.arange(0, 50), H.history[\"val_acc\"], label=\"val_acc\")\n",
        "plt.title(\"Accuracy Plot\")\n",
        "plt.xlabel(\"Epoch #\")\n",
        "plt.ylabel(\"Acc\")\n",
        "plt.legend()\n",
        "plt.show()"
      ],
      "metadata": {
        "colab": {
          "base_uri": "https://localhost:8080/",
          "height": 581
        },
        "id": "XkQYA3rvjYE0",
        "outputId": "417617a4-5366-4dd1-dc1c-dcf06bcdc059"
      },
      "execution_count": 135,
      "outputs": [
        {
          "output_type": "display_data",
          "data": {
            "image/png": "[encoded data removed]",
            "text/plain": [
              "<Figure size 432x288 with 1 Axes>"
            ]
          },
          "metadata": {}
        },
        {
          "output_type": "display_data",
          "data": {
            "image/png": "[encoded data removed]",
            "text/plain": [
              "<Figure size 432x288 with 1 Axes>"
            ]
          },
          "metadata": {}
        }
      ]
    },
    {
      "cell_type": "code",
      "source": [
        "from sklearn.metrics import classification_report\n",
        "\n",
        "pred = model.predict(x_test)\n",
        "labels = (pred > 0.5).astype(np.int)\n",
        "\n",
        "print(classification_report(y_test, labels))"
      ],
      "metadata": {
        "colab": {
          "base_uri": "https://localhost:8080/"
        },
        "id": "In2jgF1ojcrb",
        "outputId": "81923448-924f-4ab6-c049-81b92bcafa29"
      },
      "execution_count": 136,
      "outputs": [
        {
          "output_type": "stream",
          "name": "stdout",
          "text": [
            "              precision    recall  f1-score   support\n",
            "\n",
            "           0       0.00      0.00      0.00         3\n",
            "           1       0.50      0.43      0.46         7\n",
            "\n",
            "    accuracy                           0.30        10\n",
            "   macro avg       0.25      0.21      0.23        10\n",
            "weighted avg       0.35      0.30      0.32        10\n",
            "\n"
          ]
        }
      ]
    },
    {
      "cell_type": "code",
      "source": [
        "from keras.models import save_model\n",
        "model = save_model(model,'tugas6ann.h5')"
      ],
      "metadata": {
        "id": "fUP8XOgGjgqD"
      },
      "execution_count": 137,
      "outputs": []
    }
  ]
}