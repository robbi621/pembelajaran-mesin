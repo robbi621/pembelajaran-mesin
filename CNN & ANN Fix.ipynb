{
  "nbformat": 4,
  "nbformat_minor": 0,
  "metadata": {
    "colab": {
      "name": "convolutional_neural_network (1) (1).ipynb",
      "provenance": [],
      "collapsed_sections": [],
      "include_colab_link": true
    },
    "kernelspec": {
      "name": "python3",
      "display_name": "Python 3"
    },
    "language_info": {
      "name": "python"
    }
  },
  "cells": [
    {
      "cell_type": "markdown",
      "metadata": {
        "id": "view-in-github",
        "colab_type": "text"
      },
      "source": [
        "<a href=\"https://colab.research.google.com/github/robbi621/pembelajaran-mesin/blob/main/CNN%20%26%20ANN%20Fix.ipynb\" target=\"_parent\"><img src=\"https://colab.research.google.com/assets/colab-badge.svg\" alt=\"Open In Colab\"/></a>"
      ]
    },
    {
      "cell_type": "code",
      "metadata": {
        "colab": {
          "base_uri": "https://localhost:8080/"
        },
        "id": "TYG8HEb3Dkpa",
        "outputId": "8aca88eb-b234-4a93-d797-6962eab80421"
      },
      "source": [
        "\n",
        "\n",
        "!wget -O flower_color_images.zip https://github.com/robbi621/pembelajaran-mesin/blob/main/flower_color_images.zip?raw=true\n",
        "\n"
      ],
      "execution_count": 1,
      "outputs": [
        {
          "output_type": "stream",
          "name": "stdout",
          "text": [
            "--2022-01-17 04:49:03--  https://github.com/robbi621/pembelajaran-mesin/blob/main/flower_color_images.zip?raw=true\n",
            "Resolving github.com (github.com)... 52.69.186.44\n",
            "Connecting to github.com (github.com)|52.69.186.44|:443... connected.\n",
            "HTTP request sent, awaiting response... 302 Found\n",
            "Location: https://github.com/robbi621/pembelajaran-mesin/raw/main/flower_color_images.zip [following]\n",
            "--2022-01-17 04:49:04--  https://github.com/robbi621/pembelajaran-mesin/raw/main/flower_color_images.zip\n",
            "Reusing existing connection to github.com:443.\n",
            "HTTP request sent, awaiting response... 302 Found\n",
            "Location: https://raw.githubusercontent.com/robbi621/pembelajaran-mesin/main/flower_color_images.zip [following]\n",
            "--2022-01-17 04:49:04--  https://raw.githubusercontent.com/robbi621/pembelajaran-mesin/main/flower_color_images.zip\n",
            "Resolving raw.githubusercontent.com (raw.githubusercontent.com)... 185.199.111.133, 185.199.109.133, 185.199.110.133, ...\n",
            "Connecting to raw.githubusercontent.com (raw.githubusercontent.com)|185.199.111.133|:443... connected.\n",
            "HTTP request sent, awaiting response... 200 OK\n",
            "Length: 38755089 (37M) [application/zip]\n",
            "Saving to: ‘flower_color_images.zip’\n",
            "\n",
            "flower_color_images 100%[===================>]  36.96M   161MB/s    in 0.2s    \n",
            "\n",
            "2022-01-17 04:49:08 (161 MB/s) - ‘flower_color_images.zip’ saved [38755089/38755089]\n",
            "\n"
          ]
        }
      ]
    },
    {
      "cell_type": "code",
      "source": [
        "import numpy as np\n",
        "import pandas as pd\n",
        "from scipy import stats\n",
        "import matplotlib.pyplot as plt\n",
        "import seaborn as sns\n",
        "import os\n",
        "from glob import glob\n",
        "from PIL import Image\n",
        "\n",
        "import keras\n",
        "from keras.utils.np_utils import to_categorical\n",
        "from keras.models import Sequential, Model\n",
        "from keras.layers import Dense, Dropout, Flatten, Conv2D, MaxPooling2D, BatchNormalization, Activation\n",
        "from keras.preprocessing.image import ImageDataGenerator\n",
        "from keras.callbacks import *\n",
        "\n",
        "from sklearn.model_selection import train_test_split\n",
        "from sklearn.preprocessing import LabelEncoder\n",
        "from sklearn.metrics import confusion_matrix\n",
        "\n",
        "np.random.seed(42)"
      ],
      "metadata": {
        "id": "ixT-jR5hbRbv"
      },
      "execution_count": 2,
      "outputs": []
    },
    {
      "cell_type": "code",
      "metadata": {
        "id": "4rtnNrFsEDIf"
      },
      "source": [
        "import zipfile, os\n",
        "\n",
        "local_zip = '/content/flower_color_images.zip'\n",
        "zip_ref = zipfile.ZipFile(local_zip, 'r')\n",
        "zip_ref.extractall('Dataset2')\n",
        "zip_ref.close()"
      ],
      "execution_count": 3,
      "outputs": []
    },
    {
      "cell_type": "code",
      "source": [
        "pip install split-folders\n"
      ],
      "metadata": {
        "colab": {
          "base_uri": "https://localhost:8080/"
        },
        "id": "Ec9wrpeeMIqo",
        "outputId": "869a791b-30ff-4c90-d468-43d1de12a1b7"
      },
      "execution_count": 4,
      "outputs": [
        {
          "output_type": "stream",
          "name": "stdout",
          "text": [
            "Collecting split-folders\n",
            "  Downloading split_folders-0.4.3-py3-none-any.whl (7.4 kB)\n",
            "Installing collected packages: split-folders\n",
            "Successfully installed split-folders-0.4.3\n"
          ]
        }
      ]
    },
    {
      "cell_type": "code",
      "source": [
        "import splitfolders\n",
        "\n",
        "splitfolders.ratio('/content/Dataset2/flower_color_images', output=\"Dataset2_split\", seed=42, ratio=(.80, .19, .01), group_prefix=None)"
      ],
      "metadata": {
        "colab": {
          "base_uri": "https://localhost:8080/"
        },
        "id": "PR3UN2jcPwf3",
        "outputId": "46a759e6-6ce4-4433-eab6-4429f166a356"
      },
      "execution_count": 5,
      "outputs": [
        {
          "output_type": "stream",
          "name": "stderr",
          "text": [
            "Copying files: 814 files [00:00, 5240.45 files/s]\n"
          ]
        }
      ]
    },
    {
      "cell_type": "code",
      "metadata": {
        "id": "y9L_1kqnEEjc"
      },
      "source": [
        "# Definisikan path untuk data train dan data validation\n",
        "\n",
        "base_dir = 'Dataset2_split'\n",
        "\n",
        "\n",
        "test_dir = os.path.join(base_dir, 'test')\n",
        "train_dir = os.path.join(base_dir, 'train')\n",
        "\n",
        "test_flowers_dir = os.path.join(test_dir, 'flowers')\n",
        "test_flower_image_dir = os.path.join(test_dir, 'flower_image')\n",
        "\n",
        "train_flowers_dir = os.path.join(train_dir, 'flowers')\n",
        "train_flower_image_dir = os.path.join(train_dir, 'flower_image')"
      ],
      "execution_count": 6,
      "outputs": []
    },
    {
      "cell_type": "code",
      "metadata": {
        "id": "9gc0BCSREF0M"
      },
      "source": [
        "import cv2\n",
        "import numpy as np\n",
        "\n",
        "# Gather data test\n",
        "test_data = []\n",
        "test_label = []\n",
        "for r, d, f in os.walk(test_dir):\n",
        "    for file in f:\n",
        "        if \".png\" in file:\n",
        "            imagePath = os.path.join(r, file)\n",
        "            image = cv2.imread(imagePath)\n",
        "            image = cv2.resize(image, (150,150))\n",
        "            test_data.append(image)\n",
        "            label = imagePath.split(os.path.sep)[-2]\n",
        "            test_label.append(label)\n",
        "\n",
        "test_data = np.array(test_data)\n",
        "test_label = np.array(test_label)"
      ],
      "execution_count": 7,
      "outputs": []
    },
    {
      "cell_type": "code",
      "metadata": {
        "id": "FuoKFhhVEG_O"
      },
      "source": [
        "# Gather data validation\n",
        "train_data = []\n",
        "train_label = []\n",
        "for r, d, f in os.walk(train_dir):\n",
        "    for file in f:\n",
        "        if \".png\" in file:\n",
        "            imagePath = os.path.join(r, file)\n",
        "            image = cv2.imread(imagePath)\n",
        "            image = cv2.resize(image, (150,150))\n",
        "            train_data.append(image)\n",
        "            label = imagePath.split(os.path.sep)[-2]\n",
        "            train_label.append(label)\n",
        "\n",
        "train_data = np.array(train_data)\n",
        "train_label = np.array(train_label)"
      ],
      "execution_count": 8,
      "outputs": []
    },
    {
      "cell_type": "markdown",
      "metadata": {
        "id": "kiXbwrN3ELqv"
      },
      "source": [
        "<h3>Data Preprocessing</h3>"
      ]
    },
    {
      "cell_type": "code",
      "metadata": {
        "colab": {
          "base_uri": "https://localhost:8080/"
        },
        "id": "m5VhnvtrEI1I",
        "outputId": "ae4c4051-5151-4960-821a-4529f7342e7c"
      },
      "source": [
        "# Tampilkan shape dari data train dan data validation\n",
        "print(\"Test Data = \", test_data.shape)\n",
        "print(\"Test Label = \", test_label.shape)\n",
        "print(\"Train Data = \", train_data.shape)\n",
        "print(\"Train Label = \", train_label.shape)"
      ],
      "execution_count": 9,
      "outputs": [
        {
          "output_type": "stream",
          "name": "stdout",
          "text": [
            "Test Data =  (10, 150, 150, 3)\n",
            "Test Label =  (10,)\n",
            "Train Data =  (649, 150, 150, 3)\n",
            "Train Label =  (649,)\n"
          ]
        }
      ]
    },
    {
      "cell_type": "code",
      "metadata": {
        "colab": {
          "base_uri": "https://localhost:8080/"
        },
        "id": "q1LVp6dCENne",
        "outputId": "9cbe1aed-42c9-448d-d8b2-55ddc79e8704"
      },
      "source": [
        "# Normalisasi dataset\n",
        "print(\"Data sebelum di-normalisasi \", test_data[0][0][0])\n",
        "\n",
        "x_test = test_data.astype('float32') / 255.0\n",
        "x_train = train_data.astype('float32') / 255.0\n",
        "print(\"Data setelah di-normalisasi \", x_test[0][0][0])"
      ],
      "execution_count": 10,
      "outputs": [
        {
          "output_type": "stream",
          "name": "stdout",
          "text": [
            "Data sebelum di-normalisasi  [ 31 139 244]\n",
            "Data setelah di-normalisasi  [0.12156863 0.54509807 0.95686275]\n"
          ]
        }
      ]
    },
    {
      "cell_type": "code",
      "metadata": {
        "colab": {
          "base_uri": "https://localhost:8080/"
        },
        "id": "tc7FivC6EPhm",
        "outputId": "1871fe91-d1e3-426a-ea54-1d7ec54d923e"
      },
      "source": [
        "# Transformasi label encoder\n",
        "from sklearn.preprocessing import LabelEncoder\n",
        "\n",
        "print(\"Label sebelum di-encoder \", test_label[100:110])\n",
        "\n",
        "lb = LabelEncoder()\n",
        "y_test = lb.fit_transform(test_label)\n",
        "y_train = lb.fit_transform(train_label)\n",
        "\n",
        "print(\"Label setelah di-encoder \", y_test[100:110])"
      ],
      "execution_count": 11,
      "outputs": [
        {
          "output_type": "stream",
          "name": "stdout",
          "text": [
            "Label sebelum di-encoder  []\n",
            "Label setelah di-encoder  []\n"
          ]
        }
      ]
    },
    {
      "cell_type": "markdown",
      "metadata": {
        "id": "4jVWbOhOEzQJ"
      },
      "source": [
        "<h3>Definisikan Model CNN</h3>"
      ]
    },
    {
      "cell_type": "code",
      "metadata": {
        "id": "usLiFiwAEvVb"
      },
      "source": [
        "from tensorflow.keras.models import Sequential\n",
        "from tensorflow.keras.layers import InputLayer, Dense, Conv2D, MaxPool2D, Flatten"
      ],
      "execution_count": 12,
      "outputs": []
    },
    {
      "cell_type": "code",
      "metadata": {
        "id": "rDwzxacpE1ei",
        "colab": {
          "base_uri": "https://localhost:8080/"
        },
        "outputId": "3d0f4378-d1db-4451-9657-0816e03f50eb"
      },
      "source": [
        "# building a linear stack of layers with the sequential model\n",
        "\n",
        "model = Sequential()\n",
        "\n",
        "model.add(Conv2D(32, (3, 3), input_shape=(x_train.shape[1:])))\n",
        "model.add(Activation(\"relu\"))\n",
        "model.add(MaxPool2D(2, 2, padding=\"same\"))\n",
        "model.add(Dropout(0.2))\n",
        "\n",
        "model.add(Conv2D(64, (3, 3)))\n",
        "model.add(Activation(\"relu\"))\n",
        "model.add(MaxPool2D(2, 2, padding=\"same\"))\n",
        "model.add(Dropout(0.2))\n",
        "\n",
        "model.add(Conv2D(128, (3, 3)))\n",
        "model.add(Activation(\"relu\"))\n",
        "model.add(MaxPool2D(2, 2, padding=\"same\"))\n",
        "model.add(Dropout(0.2))\n",
        "\n",
        "model.add(Flatten())\n",
        "model.add(Dense(512, activation=\"relu\"))\n",
        "model.add(Dropout(0.2))\n",
        "model.add(Dense(128, activation=\"relu\"))\n",
        "model.add(Dropout(0.2))\n",
        "model.add(Dense(1, activation=\"softmax\"))\n",
        "\n",
        "# compiling the sequential model\n",
        "model.compile(loss=\"binary_crossentropy\", optimizer=\"adam\", metrics=[\"accuracy\"])\n",
        "\n",
        "model.summary()"
      ],
      "execution_count": 13,
      "outputs": [
        {
          "output_type": "stream",
          "name": "stdout",
          "text": [
            "Model: \"sequential\"\n",
            "_________________________________________________________________\n",
            " Layer (type)                Output Shape              Param #   \n",
            "=================================================================\n",
            " conv2d (Conv2D)             (None, 148, 148, 32)      896       \n",
            "                                                                 \n",
            " activation (Activation)     (None, 148, 148, 32)      0         \n",
            "                                                                 \n",
            " max_pooling2d (MaxPooling2D  (None, 74, 74, 32)       0         \n",
            " )                                                               \n",
            "                                                                 \n",
            " dropout (Dropout)           (None, 74, 74, 32)        0         \n",
            "                                                                 \n",
            " conv2d_1 (Conv2D)           (None, 72, 72, 64)        18496     \n",
            "                                                                 \n",
            " activation_1 (Activation)   (None, 72, 72, 64)        0         \n",
            "                                                                 \n",
            " max_pooling2d_1 (MaxPooling  (None, 36, 36, 64)       0         \n",
            " 2D)                                                             \n",
            "                                                                 \n",
            " dropout_1 (Dropout)         (None, 36, 36, 64)        0         \n",
            "                                                                 \n",
            " conv2d_2 (Conv2D)           (None, 34, 34, 128)       73856     \n",
            "                                                                 \n",
            " activation_2 (Activation)   (None, 34, 34, 128)       0         \n",
            "                                                                 \n",
            " max_pooling2d_2 (MaxPooling  (None, 17, 17, 128)      0         \n",
            " 2D)                                                             \n",
            "                                                                 \n",
            " dropout_2 (Dropout)         (None, 17, 17, 128)       0         \n",
            "                                                                 \n",
            " flatten (Flatten)           (None, 36992)             0         \n",
            "                                                                 \n",
            " dense (Dense)               (None, 512)               18940416  \n",
            "                                                                 \n",
            " dropout_3 (Dropout)         (None, 512)               0         \n",
            "                                                                 \n",
            " dense_1 (Dense)             (None, 128)               65664     \n",
            "                                                                 \n",
            " dropout_4 (Dropout)         (None, 128)               0         \n",
            "                                                                 \n",
            " dense_2 (Dense)             (None, 1)                 129       \n",
            "                                                                 \n",
            "=================================================================\n",
            "Total params: 19,099,457\n",
            "Trainable params: 19,099,457\n",
            "Non-trainable params: 0\n",
            "_________________________________________________________________\n"
          ]
        }
      ]
    },
    {
      "cell_type": "code",
      "metadata": {
        "id": "Sud1AUF0E2k8"
      },
      "source": [
        "# Fully Connected Layer\n",
        "model.add(Dense(128, activation='relu'))\n",
        "model.add(Dense(1, activation='sigmoid'))"
      ],
      "execution_count": 14,
      "outputs": []
    },
    {
      "cell_type": "code",
      "metadata": {
        "colab": {
          "base_uri": "https://localhost:8080/"
        },
        "id": "XW-KE9ePE466",
        "outputId": "5fc6a6aa-7216-4c07-cfe2-85c3fddd7656"
      },
      "source": [
        "# Print model summary\n",
        "print(model.summary())"
      ],
      "execution_count": 15,
      "outputs": [
        {
          "output_type": "stream",
          "name": "stdout",
          "text": [
            "Model: \"sequential\"\n",
            "_________________________________________________________________\n",
            " Layer (type)                Output Shape              Param #   \n",
            "=================================================================\n",
            " conv2d (Conv2D)             (None, 148, 148, 32)      896       \n",
            "                                                                 \n",
            " activation (Activation)     (None, 148, 148, 32)      0         \n",
            "                                                                 \n",
            " max_pooling2d (MaxPooling2D  (None, 74, 74, 32)       0         \n",
            " )                                                               \n",
            "                                                                 \n",
            " dropout (Dropout)           (None, 74, 74, 32)        0         \n",
            "                                                                 \n",
            " conv2d_1 (Conv2D)           (None, 72, 72, 64)        18496     \n",
            "                                                                 \n",
            " activation_1 (Activation)   (None, 72, 72, 64)        0         \n",
            "                                                                 \n",
            " max_pooling2d_1 (MaxPooling  (None, 36, 36, 64)       0         \n",
            " 2D)                                                             \n",
            "                                                                 \n",
            " dropout_1 (Dropout)         (None, 36, 36, 64)        0         \n",
            "                                                                 \n",
            " conv2d_2 (Conv2D)           (None, 34, 34, 128)       73856     \n",
            "                                                                 \n",
            " activation_2 (Activation)   (None, 34, 34, 128)       0         \n",
            "                                                                 \n",
            " max_pooling2d_2 (MaxPooling  (None, 17, 17, 128)      0         \n",
            " 2D)                                                             \n",
            "                                                                 \n",
            " dropout_2 (Dropout)         (None, 17, 17, 128)       0         \n",
            "                                                                 \n",
            " flatten (Flatten)           (None, 36992)             0         \n",
            "                                                                 \n",
            " dense (Dense)               (None, 512)               18940416  \n",
            "                                                                 \n",
            " dropout_3 (Dropout)         (None, 512)               0         \n",
            "                                                                 \n",
            " dense_1 (Dense)             (None, 128)               65664     \n",
            "                                                                 \n",
            " dropout_4 (Dropout)         (None, 128)               0         \n",
            "                                                                 \n",
            " dense_2 (Dense)             (None, 1)                 129       \n",
            "                                                                 \n",
            " dense_3 (Dense)             (None, 128)               256       \n",
            "                                                                 \n",
            " dense_4 (Dense)             (None, 1)                 129       \n",
            "                                                                 \n",
            "=================================================================\n",
            "Total params: 19,099,842\n",
            "Trainable params: 19,099,842\n",
            "Non-trainable params: 0\n",
            "_________________________________________________________________\n",
            "None\n"
          ]
        }
      ]
    },
    {
      "cell_type": "code",
      "metadata": {
        "colab": {
          "base_uri": "https://localhost:8080/"
        },
        "id": "Tais64D7E5Zo",
        "outputId": "f346d837-a9df-482e-9e12-8ea026482a14"
      },
      "source": [
        "# Compile model\n",
        "from tensorflow.keras.optimizers import Adam\n",
        "\n",
        "model.compile(optimizer=Adam(lr=0.001), \n",
        "              loss='binary_crossentropy', \n",
        "              metrics=['acc'])"
      ],
      "execution_count": 16,
      "outputs": [
        {
          "output_type": "stream",
          "name": "stderr",
          "text": [
            "/usr/local/lib/python3.7/dist-packages/keras/optimizer_v2/adam.py:105: UserWarning: The `lr` argument is deprecated, use `learning_rate` instead.\n",
            "  super(Adam, self).__init__(name, **kwargs)\n"
          ]
        }
      ]
    },
    {
      "cell_type": "markdown",
      "metadata": {
        "id": "NTNBH19iE8kt"
      },
      "source": [
        "<h3>Training Model</h3>"
      ]
    },
    {
      "cell_type": "code",
      "metadata": {
        "colab": {
          "base_uri": "https://localhost:8080/"
        },
        "id": "p4Vr8dyvE6pM",
        "outputId": "562fc557-bf46-4a6c-ef9a-c9cc0d978a6a"
      },
      "source": [
        "# training the model for 10 epochs\n",
        "history = model.fit(x_train, y_train, batch_size = 20, epochs=100, validation_data=(x_test, y_test))"
      ],
      "execution_count": 17,
      "outputs": [
        {
          "output_type": "stream",
          "name": "stdout",
          "text": [
            "Epoch 1/100\n",
            "33/33 [==============================] - 33s 970ms/step - loss: 0.6152 - acc: 0.7427 - val_loss: 0.6139 - val_acc: 0.7000\n",
            "Epoch 2/100\n",
            "33/33 [==============================] - 32s 975ms/step - loss: 0.5756 - acc: 0.7427 - val_loss: 0.6121 - val_acc: 0.7000\n",
            "Epoch 3/100\n",
            "33/33 [==============================] - 32s 972ms/step - loss: 0.5712 - acc: 0.7427 - val_loss: 0.6156 - val_acc: 0.7000\n",
            "Epoch 4/100\n",
            "33/33 [==============================] - 32s 958ms/step - loss: 0.5705 - acc: 0.7427 - val_loss: 0.6151 - val_acc: 0.7000\n",
            "Epoch 5/100\n",
            "33/33 [==============================] - 32s 969ms/step - loss: 0.5706 - acc: 0.7427 - val_loss: 0.6149 - val_acc: 0.7000\n",
            "Epoch 6/100\n",
            "33/33 [==============================] - 32s 964ms/step - loss: 0.5707 - acc: 0.7427 - val_loss: 0.6149 - val_acc: 0.7000\n",
            "Epoch 7/100\n",
            "33/33 [==============================] - 32s 970ms/step - loss: 0.5705 - acc: 0.7427 - val_loss: 0.6165 - val_acc: 0.7000\n",
            "Epoch 8/100\n",
            "33/33 [==============================] - 32s 960ms/step - loss: 0.5712 - acc: 0.7427 - val_loss: 0.6159 - val_acc: 0.7000\n",
            "Epoch 9/100\n",
            "33/33 [==============================] - 32s 965ms/step - loss: 0.5705 - acc: 0.7427 - val_loss: 0.6163 - val_acc: 0.7000\n",
            "Epoch 10/100\n",
            "33/33 [==============================] - 32s 964ms/step - loss: 0.5708 - acc: 0.7427 - val_loss: 0.6161 - val_acc: 0.7000\n",
            "Epoch 11/100\n",
            "33/33 [==============================] - 32s 961ms/step - loss: 0.5704 - acc: 0.7427 - val_loss: 0.6145 - val_acc: 0.7000\n",
            "Epoch 12/100\n",
            "33/33 [==============================] - 32s 962ms/step - loss: 0.5707 - acc: 0.7427 - val_loss: 0.6154 - val_acc: 0.7000\n",
            "Epoch 13/100\n",
            "33/33 [==============================] - 32s 960ms/step - loss: 0.5704 - acc: 0.7427 - val_loss: 0.6150 - val_acc: 0.7000\n",
            "Epoch 14/100\n",
            "33/33 [==============================] - 32s 960ms/step - loss: 0.5720 - acc: 0.7427 - val_loss: 0.6145 - val_acc: 0.7000\n",
            "Epoch 15/100\n",
            "33/33 [==============================] - 32s 966ms/step - loss: 0.5722 - acc: 0.7427 - val_loss: 0.6155 - val_acc: 0.7000\n",
            "Epoch 16/100\n",
            "33/33 [==============================] - 32s 965ms/step - loss: 0.5709 - acc: 0.7427 - val_loss: 0.6155 - val_acc: 0.7000\n",
            "Epoch 17/100\n",
            "33/33 [==============================] - 32s 973ms/step - loss: 0.5715 - acc: 0.7427 - val_loss: 0.6145 - val_acc: 0.7000\n",
            "Epoch 18/100\n",
            "33/33 [==============================] - 32s 965ms/step - loss: 0.5714 - acc: 0.7427 - val_loss: 0.6171 - val_acc: 0.7000\n",
            "Epoch 19/100\n",
            "33/33 [==============================] - 32s 964ms/step - loss: 0.5708 - acc: 0.7427 - val_loss: 0.6153 - val_acc: 0.7000\n",
            "Epoch 20/100\n",
            "33/33 [==============================] - 32s 965ms/step - loss: 0.5705 - acc: 0.7427 - val_loss: 0.6155 - val_acc: 0.7000\n",
            "Epoch 21/100\n",
            "33/33 [==============================] - 32s 970ms/step - loss: 0.5706 - acc: 0.7427 - val_loss: 0.6149 - val_acc: 0.7000\n",
            "Epoch 22/100\n",
            "33/33 [==============================] - 32s 960ms/step - loss: 0.5706 - acc: 0.7427 - val_loss: 0.6175 - val_acc: 0.7000\n",
            "Epoch 23/100\n",
            "33/33 [==============================] - 32s 968ms/step - loss: 0.5706 - acc: 0.7427 - val_loss: 0.6152 - val_acc: 0.7000\n",
            "Epoch 24/100\n",
            "33/33 [==============================] - 32s 967ms/step - loss: 0.5713 - acc: 0.7427 - val_loss: 0.6163 - val_acc: 0.7000\n",
            "Epoch 25/100\n",
            "33/33 [==============================] - 32s 978ms/step - loss: 0.5703 - acc: 0.7427 - val_loss: 0.6144 - val_acc: 0.7000\n",
            "Epoch 26/100\n",
            "33/33 [==============================] - 32s 980ms/step - loss: 0.5707 - acc: 0.7427 - val_loss: 0.6134 - val_acc: 0.7000\n",
            "Epoch 27/100\n",
            "33/33 [==============================] - 32s 982ms/step - loss: 0.5712 - acc: 0.7427 - val_loss: 0.6159 - val_acc: 0.7000\n",
            "Epoch 28/100\n",
            "33/33 [==============================] - 32s 970ms/step - loss: 0.5710 - acc: 0.7427 - val_loss: 0.6149 - val_acc: 0.7000\n",
            "Epoch 29/100\n",
            "33/33 [==============================] - 32s 983ms/step - loss: 0.5708 - acc: 0.7427 - val_loss: 0.6147 - val_acc: 0.7000\n",
            "Epoch 30/100\n",
            "33/33 [==============================] - 32s 981ms/step - loss: 0.5707 - acc: 0.7427 - val_loss: 0.6155 - val_acc: 0.7000\n",
            "Epoch 31/100\n",
            "33/33 [==============================] - 32s 983ms/step - loss: 0.5706 - acc: 0.7427 - val_loss: 0.6159 - val_acc: 0.7000\n",
            "Epoch 32/100\n",
            "33/33 [==============================] - 32s 985ms/step - loss: 0.5706 - acc: 0.7427 - val_loss: 0.6163 - val_acc: 0.7000\n",
            "Epoch 33/100\n",
            "33/33 [==============================] - 33s 993ms/step - loss: 0.5711 - acc: 0.7427 - val_loss: 0.6153 - val_acc: 0.7000\n",
            "Epoch 34/100\n",
            "33/33 [==============================] - 33s 987ms/step - loss: 0.5707 - acc: 0.7427 - val_loss: 0.6149 - val_acc: 0.7000\n",
            "Epoch 35/100\n",
            "33/33 [==============================] - 32s 982ms/step - loss: 0.5707 - acc: 0.7427 - val_loss: 0.6157 - val_acc: 0.7000\n",
            "Epoch 36/100\n",
            "33/33 [==============================] - 33s 985ms/step - loss: 0.5705 - acc: 0.7427 - val_loss: 0.6145 - val_acc: 0.7000\n",
            "Epoch 37/100\n",
            "33/33 [==============================] - 32s 981ms/step - loss: 0.5705 - acc: 0.7427 - val_loss: 0.6156 - val_acc: 0.7000\n",
            "Epoch 38/100\n",
            "33/33 [==============================] - 33s 993ms/step - loss: 0.5723 - acc: 0.7427 - val_loss: 0.6160 - val_acc: 0.7000\n",
            "Epoch 39/100\n",
            "33/33 [==============================] - 32s 982ms/step - loss: 0.5704 - acc: 0.7427 - val_loss: 0.6155 - val_acc: 0.7000\n",
            "Epoch 40/100\n",
            "33/33 [==============================] - 33s 985ms/step - loss: 0.5708 - acc: 0.7427 - val_loss: 0.6154 - val_acc: 0.7000\n",
            "Epoch 41/100\n",
            "33/33 [==============================] - 32s 985ms/step - loss: 0.5715 - acc: 0.7427 - val_loss: 0.6154 - val_acc: 0.7000\n",
            "Epoch 42/100\n",
            "33/33 [==============================] - 33s 989ms/step - loss: 0.5705 - acc: 0.7427 - val_loss: 0.6170 - val_acc: 0.7000\n",
            "Epoch 43/100\n",
            "33/33 [==============================] - 33s 991ms/step - loss: 0.5705 - acc: 0.7427 - val_loss: 0.6163 - val_acc: 0.7000\n",
            "Epoch 44/100\n",
            "33/33 [==============================] - 33s 989ms/step - loss: 0.5714 - acc: 0.7427 - val_loss: 0.6136 - val_acc: 0.7000\n",
            "Epoch 45/100\n",
            "33/33 [==============================] - 33s 994ms/step - loss: 0.5708 - acc: 0.7427 - val_loss: 0.6165 - val_acc: 0.7000\n",
            "Epoch 46/100\n",
            "33/33 [==============================] - 33s 991ms/step - loss: 0.5710 - acc: 0.7427 - val_loss: 0.6151 - val_acc: 0.7000\n",
            "Epoch 47/100\n",
            "33/33 [==============================] - 33s 994ms/step - loss: 0.5709 - acc: 0.7427 - val_loss: 0.6169 - val_acc: 0.7000\n",
            "Epoch 48/100\n",
            "33/33 [==============================] - 33s 988ms/step - loss: 0.5708 - acc: 0.7427 - val_loss: 0.6149 - val_acc: 0.7000\n",
            "Epoch 49/100\n",
            "33/33 [==============================] - 32s 984ms/step - loss: 0.5705 - acc: 0.7427 - val_loss: 0.6150 - val_acc: 0.7000\n",
            "Epoch 50/100\n",
            "33/33 [==============================] - 32s 980ms/step - loss: 0.5707 - acc: 0.7427 - val_loss: 0.6157 - val_acc: 0.7000\n",
            "Epoch 51/100\n",
            "33/33 [==============================] - 32s 980ms/step - loss: 0.5706 - acc: 0.7427 - val_loss: 0.6152 - val_acc: 0.7000\n",
            "Epoch 52/100\n",
            "33/33 [==============================] - 33s 985ms/step - loss: 0.5704 - acc: 0.7427 - val_loss: 0.6156 - val_acc: 0.7000\n",
            "Epoch 53/100\n",
            "33/33 [==============================] - 32s 981ms/step - loss: 0.5706 - acc: 0.7427 - val_loss: 0.6159 - val_acc: 0.7000\n",
            "Epoch 54/100\n",
            "33/33 [==============================] - 32s 979ms/step - loss: 0.5710 - acc: 0.7427 - val_loss: 0.6162 - val_acc: 0.7000\n",
            "Epoch 55/100\n",
            "33/33 [==============================] - 32s 971ms/step - loss: 0.5714 - acc: 0.7427 - val_loss: 0.6142 - val_acc: 0.7000\n",
            "Epoch 56/100\n",
            "33/33 [==============================] - 32s 978ms/step - loss: 0.5705 - acc: 0.7427 - val_loss: 0.6157 - val_acc: 0.7000\n",
            "Epoch 57/100\n",
            "33/33 [==============================] - 32s 978ms/step - loss: 0.5706 - acc: 0.7427 - val_loss: 0.6154 - val_acc: 0.7000\n",
            "Epoch 58/100\n",
            "33/33 [==============================] - 32s 978ms/step - loss: 0.5705 - acc: 0.7427 - val_loss: 0.6157 - val_acc: 0.7000\n",
            "Epoch 59/100\n",
            "33/33 [==============================] - 32s 975ms/step - loss: 0.5704 - acc: 0.7427 - val_loss: 0.6142 - val_acc: 0.7000\n",
            "Epoch 60/100\n",
            "33/33 [==============================] - 32s 977ms/step - loss: 0.5704 - acc: 0.7427 - val_loss: 0.6151 - val_acc: 0.7000\n",
            "Epoch 61/100\n",
            "33/33 [==============================] - 32s 971ms/step - loss: 0.5707 - acc: 0.7427 - val_loss: 0.6151 - val_acc: 0.7000\n",
            "Epoch 62/100\n",
            "33/33 [==============================] - 32s 976ms/step - loss: 0.5703 - acc: 0.7427 - val_loss: 0.6162 - val_acc: 0.7000\n",
            "Epoch 63/100\n",
            "33/33 [==============================] - 32s 971ms/step - loss: 0.5711 - acc: 0.7427 - val_loss: 0.6163 - val_acc: 0.7000\n",
            "Epoch 64/100\n",
            "33/33 [==============================] - 32s 979ms/step - loss: 0.5703 - acc: 0.7427 - val_loss: 0.6144 - val_acc: 0.7000\n",
            "Epoch 65/100\n",
            "33/33 [==============================] - 32s 970ms/step - loss: 0.5705 - acc: 0.7427 - val_loss: 0.6146 - val_acc: 0.7000\n",
            "Epoch 66/100\n",
            "33/33 [==============================] - 32s 978ms/step - loss: 0.5706 - acc: 0.7427 - val_loss: 0.6164 - val_acc: 0.7000\n",
            "Epoch 67/100\n",
            "33/33 [==============================] - 32s 973ms/step - loss: 0.5705 - acc: 0.7427 - val_loss: 0.6160 - val_acc: 0.7000\n",
            "Epoch 68/100\n",
            "33/33 [==============================] - 32s 970ms/step - loss: 0.5703 - acc: 0.7427 - val_loss: 0.6146 - val_acc: 0.7000\n",
            "Epoch 69/100\n",
            "33/33 [==============================] - 32s 973ms/step - loss: 0.5713 - acc: 0.7427 - val_loss: 0.6151 - val_acc: 0.7000\n",
            "Epoch 70/100\n",
            "33/33 [==============================] - 32s 973ms/step - loss: 0.5707 - acc: 0.7427 - val_loss: 0.6162 - val_acc: 0.7000\n",
            "Epoch 71/100\n",
            "33/33 [==============================] - 32s 974ms/step - loss: 0.5704 - acc: 0.7427 - val_loss: 0.6152 - val_acc: 0.7000\n",
            "Epoch 72/100\n",
            "33/33 [==============================] - 32s 976ms/step - loss: 0.5708 - acc: 0.7427 - val_loss: 0.6156 - val_acc: 0.7000\n",
            "Epoch 73/100\n",
            "33/33 [==============================] - 32s 975ms/step - loss: 0.5709 - acc: 0.7427 - val_loss: 0.6150 - val_acc: 0.7000\n",
            "Epoch 74/100\n",
            "33/33 [==============================] - 32s 975ms/step - loss: 0.5716 - acc: 0.7427 - val_loss: 0.6164 - val_acc: 0.7000\n",
            "Epoch 75/100\n",
            "33/33 [==============================] - 32s 973ms/step - loss: 0.5717 - acc: 0.7427 - val_loss: 0.6154 - val_acc: 0.7000\n",
            "Epoch 76/100\n",
            "33/33 [==============================] - 32s 968ms/step - loss: 0.5706 - acc: 0.7427 - val_loss: 0.6138 - val_acc: 0.7000\n",
            "Epoch 77/100\n",
            "33/33 [==============================] - 32s 966ms/step - loss: 0.5706 - acc: 0.7427 - val_loss: 0.6139 - val_acc: 0.7000\n",
            "Epoch 78/100\n",
            "33/33 [==============================] - 32s 976ms/step - loss: 0.5705 - acc: 0.7427 - val_loss: 0.6165 - val_acc: 0.7000\n",
            "Epoch 79/100\n",
            "33/33 [==============================] - 32s 970ms/step - loss: 0.5705 - acc: 0.7427 - val_loss: 0.6155 - val_acc: 0.7000\n",
            "Epoch 80/100\n",
            "33/33 [==============================] - 32s 972ms/step - loss: 0.5706 - acc: 0.7427 - val_loss: 0.6153 - val_acc: 0.7000\n",
            "Epoch 81/100\n",
            "33/33 [==============================] - 32s 971ms/step - loss: 0.5716 - acc: 0.7427 - val_loss: 0.6149 - val_acc: 0.7000\n",
            "Epoch 82/100\n",
            "33/33 [==============================] - 32s 972ms/step - loss: 0.5706 - acc: 0.7427 - val_loss: 0.6142 - val_acc: 0.7000\n",
            "Epoch 83/100\n",
            "33/33 [==============================] - 32s 970ms/step - loss: 0.5708 - acc: 0.7427 - val_loss: 0.6161 - val_acc: 0.7000\n",
            "Epoch 84/100\n",
            "33/33 [==============================] - 32s 975ms/step - loss: 0.5705 - acc: 0.7427 - val_loss: 0.6151 - val_acc: 0.7000\n",
            "Epoch 85/100\n",
            "33/33 [==============================] - 32s 975ms/step - loss: 0.5711 - acc: 0.7427 - val_loss: 0.6171 - val_acc: 0.7000\n",
            "Epoch 86/100\n",
            "33/33 [==============================] - 32s 977ms/step - loss: 0.5711 - acc: 0.7427 - val_loss: 0.6151 - val_acc: 0.7000\n",
            "Epoch 87/100\n",
            "33/33 [==============================] - 32s 973ms/step - loss: 0.5704 - acc: 0.7427 - val_loss: 0.6154 - val_acc: 0.7000\n",
            "Epoch 88/100\n",
            "33/33 [==============================] - 32s 967ms/step - loss: 0.5709 - acc: 0.7427 - val_loss: 0.6155 - val_acc: 0.7000\n",
            "Epoch 89/100\n",
            "33/33 [==============================] - 32s 959ms/step - loss: 0.5707 - acc: 0.7427 - val_loss: 0.6162 - val_acc: 0.7000\n",
            "Epoch 90/100\n",
            "33/33 [==============================] - 32s 962ms/step - loss: 0.5710 - acc: 0.7427 - val_loss: 0.6155 - val_acc: 0.7000\n",
            "Epoch 91/100\n",
            "33/33 [==============================] - 32s 965ms/step - loss: 0.5708 - acc: 0.7427 - val_loss: 0.6162 - val_acc: 0.7000\n",
            "Epoch 92/100\n",
            "33/33 [==============================] - 32s 963ms/step - loss: 0.5707 - acc: 0.7427 - val_loss: 0.6159 - val_acc: 0.7000\n",
            "Epoch 93/100\n",
            "33/33 [==============================] - 32s 973ms/step - loss: 0.5705 - acc: 0.7427 - val_loss: 0.6166 - val_acc: 0.7000\n",
            "Epoch 94/100\n",
            "33/33 [==============================] - 32s 970ms/step - loss: 0.5711 - acc: 0.7427 - val_loss: 0.6155 - val_acc: 0.7000\n",
            "Epoch 95/100\n",
            "33/33 [==============================] - 32s 959ms/step - loss: 0.5705 - acc: 0.7427 - val_loss: 0.6162 - val_acc: 0.7000\n",
            "Epoch 96/100\n",
            "33/33 [==============================] - 32s 960ms/step - loss: 0.5710 - acc: 0.7427 - val_loss: 0.6150 - val_acc: 0.7000\n",
            "Epoch 97/100\n",
            "33/33 [==============================] - 32s 958ms/step - loss: 0.5705 - acc: 0.7427 - val_loss: 0.6155 - val_acc: 0.7000\n",
            "Epoch 98/100\n",
            "33/33 [==============================] - 32s 958ms/step - loss: 0.5707 - acc: 0.7427 - val_loss: 0.6161 - val_acc: 0.7000\n",
            "Epoch 99/100\n",
            "33/33 [==============================] - 32s 958ms/step - loss: 0.5706 - acc: 0.7427 - val_loss: 0.6159 - val_acc: 0.7000\n",
            "Epoch 100/100\n",
            "33/33 [==============================] - 32s 962ms/step - loss: 0.5708 - acc: 0.7427 - val_loss: 0.6165 - val_acc: 0.7000\n"
          ]
        }
      ]
    },
    {
      "cell_type": "markdown",
      "metadata": {
        "id": "HuxjW35RFCZ6"
      },
      "source": [
        "<h3>Evaluasi Model</h3>"
      ]
    },
    {
      "cell_type": "code",
      "metadata": {
        "colab": {
          "base_uri": "https://localhost:8080/",
          "height": 295
        },
        "id": "vm5YyYqkREl7",
        "outputId": "a8c7449a-5ce4-46d8-b046-72908af15e86"
      },
      "source": [
        "%matplotlib inline\n",
        "\n",
        "import matplotlib.pyplot as plt\n",
        "\n",
        "plt.plot(history.history['loss'])\n",
        "plt.plot(history.history['val_loss'])\n",
        "plt.title('Model Loss')\n",
        "plt.ylabel('Loss')\n",
        "plt.xlabel('Epochs')\n",
        "plt.legend(['train', 'test'])\n",
        "plt.show()"
      ],
      "execution_count": 20,
      "outputs": [
        {
          "output_type": "display_data",
          "data": {
            "image/png": "[encoded data removed]",
            "text/plain": [
              "<Figure size 432x288 with 1 Axes>"
            ]
          },
          "metadata": {
            "needs_background": "light"
          }
        }
      ]
    },
    {
      "cell_type": "code",
      "metadata": {
        "colab": {
          "base_uri": "https://localhost:8080/",
          "height": 295
        },
        "id": "NCcgSU7kSZwm",
        "outputId": "f5914cea-043b-4f3e-93fc-d8e7b563e86f"
      },
      "source": [
        "plt.plot(history.history['acc'])\n",
        "plt.plot(history.history['val_acc'])\n",
        "plt.title('Model Accuracy')\n",
        "plt.ylabel('Accuracy')\n",
        "plt.xlabel('Epochs')\n",
        "plt.legend(['train', 'test'])\n",
        "plt.show()"
      ],
      "execution_count": 21,
      "outputs": [
        {
          "output_type": "display_data",
          "data": {
            "image/png": "[encoded data removed]",
            "text/plain": [
              "<Figure size 432x288 with 1 Axes>"
            ]
          },
          "metadata": {
            "needs_background": "light"
          }
        }
      ]
    },
    {
      "cell_type": "code",
      "metadata": {
        "colab": {
          "base_uri": "https://localhost:8080/"
        },
        "id": "H_8mB3igFG-x",
        "outputId": "5b435a0b-b24d-4cb0-9512-7a156a70e1d6"
      },
      "source": [
        "from sklearn.metrics import classification_report\n",
        "\n",
        "pred = model.predict(x_train)\n",
        "labels = (pred > 0.5).astype(np.int)\n",
        "\n",
        "print(classification_report(y_train, labels))"
      ],
      "execution_count": 22,
      "outputs": [
        {
          "output_type": "stream",
          "name": "stdout",
          "text": [
            "              precision    recall  f1-score   support\n",
            "\n",
            "           0       0.00      0.00      0.00       167\n",
            "           1       0.74      1.00      0.85       482\n",
            "\n",
            "    accuracy                           0.74       649\n",
            "   macro avg       0.37      0.50      0.43       649\n",
            "weighted avg       0.55      0.74      0.63       649\n",
            "\n"
          ]
        },
        {
          "output_type": "stream",
          "name": "stderr",
          "text": [
            "/usr/local/lib/python3.7/dist-packages/sklearn/metrics/_classification.py:1318: UndefinedMetricWarning: Precision and F-score are ill-defined and being set to 0.0 in labels with no predicted samples. Use `zero_division` parameter to control this behavior.\n",
            "  _warn_prf(average, modifier, msg_start, len(result))\n",
            "/usr/local/lib/python3.7/dist-packages/sklearn/metrics/_classification.py:1318: UndefinedMetricWarning: Precision and F-score are ill-defined and being set to 0.0 in labels with no predicted samples. Use `zero_division` parameter to control this behavior.\n",
            "  _warn_prf(average, modifier, msg_start, len(result))\n",
            "/usr/local/lib/python3.7/dist-packages/sklearn/metrics/_classification.py:1318: UndefinedMetricWarning: Precision and F-score are ill-defined and being set to 0.0 in labels with no predicted samples. Use `zero_division` parameter to control this behavior.\n",
            "  _warn_prf(average, modifier, msg_start, len(result))\n"
          ]
        }
      ]
    },
    {
      "cell_type": "code",
      "metadata": {
        "id": "9wFSUK9Yuttv"
      },
      "source": [
        "from keras.models import save_model\n",
        "model = save_model(model,'CnnMl.h5')"
      ],
      "execution_count": 23,
      "outputs": []
    },
    {
      "cell_type": "code",
      "source": [
        ""
      ],
      "metadata": {
        "id": "je3c8qCM7DYm"
      },
      "execution_count": null,
      "outputs": []
    },
    {
      "cell_type": "code",
      "source": [
        ""
      ],
      "metadata": {
        "id": "ihcaIPpji_xw"
      },
      "execution_count": null,
      "outputs": []
    },
    {
      "cell_type": "markdown",
      "source": [
        "MODEL CNN\n"
      ],
      "metadata": {
        "id": "axQ8ei0RjAit"
      }
    },
    {
      "cell_type": "code",
      "source": [
        "\n",
        "\n",
        "from tensorflow.keras import layers\n",
        "from tensorflow.keras import Model\n",
        "\n",
        "# Buat model dengan 1 input layer, 1 hidden layer, dan 1 output layer\n",
        "img_input = layers.Input(shape=(150, 150, 3)) # layer input\n",
        "x = layers.Flatten()(img_input) # ubah dari matriks 150x150x3 menjadi vektor\n",
        "x = layers.Dense(64, activation='relu')(x) # hidden layer 1 dengan 128 neuron\n",
        "output = layers.Dense(1, activation='sigmoid')(x) # output layer dengan 1 neuron (binary)\n",
        "\n",
        "# Definisikan modelnya\n",
        "model = Model(img_input, output)\n",
        "\n",
        "# Tampilkan model summary\n",
        "model.summary()\n",
        "\n"
      ],
      "metadata": {
        "colab": {
          "base_uri": "https://localhost:8080/"
        },
        "id": "Byvn-ugOjD1c",
        "outputId": "a7e31191-651f-4551-8387-cca9f88953c0"
      },
      "execution_count": 24,
      "outputs": [
        {
          "output_type": "stream",
          "name": "stdout",
          "text": [
            "Model: \"model\"\n",
            "_________________________________________________________________\n",
            " Layer (type)                Output Shape              Param #   \n",
            "=================================================================\n",
            " input_1 (InputLayer)        [(None, 150, 150, 3)]     0         \n",
            "                                                                 \n",
            " flatten_1 (Flatten)         (None, 67500)             0         \n",
            "                                                                 \n",
            " dense_5 (Dense)             (None, 64)                4320064   \n",
            "                                                                 \n",
            " dense_6 (Dense)             (None, 1)                 65        \n",
            "                                                                 \n",
            "=================================================================\n",
            "Total params: 4,320,129\n",
            "Trainable params: 4,320,129\n",
            "Non-trainable params: 0\n",
            "_________________________________________________________________\n"
          ]
        }
      ]
    },
    {
      "cell_type": "code",
      "source": [
        "from tensorflow.keras.optimizers import Adam\n",
        "\n",
        "# Compile model\n",
        "model.compile(loss='binary_crossentropy',\n",
        "              optimizer=Adam(lr=0.001),\n",
        "              metrics=['acc'])"
      ],
      "metadata": {
        "colab": {
          "base_uri": "https://localhost:8080/"
        },
        "id": "NEPMZX-qjFz5",
        "outputId": "367a608a-1d26-4777-9a71-39fed4af1328"
      },
      "execution_count": 25,
      "outputs": [
        {
          "output_type": "stream",
          "name": "stderr",
          "text": [
            "/usr/local/lib/python3.7/dist-packages/keras/optimizer_v2/adam.py:105: UserWarning: The `lr` argument is deprecated, use `learning_rate` instead.\n",
            "  super(Adam, self).__init__(name, **kwargs)\n"
          ]
        }
      ]
    },
    {
      "cell_type": "code",
      "source": [
        "H = model.fit(x_train, y_train, batch_size=20, epochs=100, validation_data=(x_test, y_test ))"
      ],
      "metadata": {
        "colab": {
          "base_uri": "https://localhost:8080/"
        },
        "id": "O70d2OLsjLic",
        "outputId": "2b56b46e-2b0d-41a6-e07e-16b934517aeb"
      },
      "execution_count": 26,
      "outputs": [
        {
          "output_type": "stream",
          "name": "stdout",
          "text": [
            "Epoch 1/100\n",
            "33/33 [==============================] - 2s 33ms/step - loss: 6.5901 - acc: 0.6379 - val_loss: 2.8921 - val_acc: 0.3000\n",
            "Epoch 2/100\n",
            "33/33 [==============================] - 1s 28ms/step - loss: 1.2562 - acc: 0.6672 - val_loss: 1.3243 - val_acc: 0.1000\n",
            "Epoch 3/100\n",
            "33/33 [==============================] - 1s 28ms/step - loss: 1.0305 - acc: 0.6718 - val_loss: 1.2225 - val_acc: 0.6000\n",
            "Epoch 4/100\n",
            "33/33 [==============================] - 1s 29ms/step - loss: 1.5469 - acc: 0.6410 - val_loss: 3.7367 - val_acc: 0.7000\n",
            "Epoch 5/100\n",
            "33/33 [==============================] - 1s 27ms/step - loss: 1.1930 - acc: 0.7103 - val_loss: 2.7673 - val_acc: 0.2000\n",
            "Epoch 6/100\n",
            "33/33 [==============================] - 1s 28ms/step - loss: 0.9266 - acc: 0.6934 - val_loss: 2.3094 - val_acc: 0.7000\n",
            "Epoch 7/100\n",
            "33/33 [==============================] - 1s 27ms/step - loss: 0.8384 - acc: 0.7288 - val_loss: 1.8592 - val_acc: 0.7000\n",
            "Epoch 8/100\n",
            "33/33 [==============================] - 1s 28ms/step - loss: 0.7159 - acc: 0.7119 - val_loss: 1.6790 - val_acc: 0.6000\n",
            "Epoch 9/100\n",
            "33/33 [==============================] - 1s 27ms/step - loss: 0.9250 - acc: 0.7134 - val_loss: 1.8391 - val_acc: 0.6000\n",
            "Epoch 10/100\n",
            "33/33 [==============================] - 1s 28ms/step - loss: 0.9510 - acc: 0.7057 - val_loss: 1.8469 - val_acc: 0.5000\n",
            "Epoch 11/100\n",
            "33/33 [==============================] - 1s 27ms/step - loss: 0.6879 - acc: 0.7304 - val_loss: 1.8345 - val_acc: 0.5000\n",
            "Epoch 12/100\n",
            "33/33 [==============================] - 1s 28ms/step - loss: 0.7870 - acc: 0.7442 - val_loss: 2.2539 - val_acc: 0.6000\n",
            "Epoch 13/100\n",
            "33/33 [==============================] - 1s 28ms/step - loss: 1.3591 - acc: 0.6888 - val_loss: 2.4900 - val_acc: 0.3000\n",
            "Epoch 14/100\n",
            "33/33 [==============================] - 1s 28ms/step - loss: 0.8893 - acc: 0.7257 - val_loss: 2.8617 - val_acc: 0.3000\n",
            "Epoch 15/100\n",
            "33/33 [==============================] - 1s 28ms/step - loss: 0.6817 - acc: 0.7720 - val_loss: 2.7639 - val_acc: 0.6000\n",
            "Epoch 16/100\n",
            "33/33 [==============================] - 1s 28ms/step - loss: 1.0100 - acc: 0.7057 - val_loss: 2.5294 - val_acc: 0.6000\n",
            "Epoch 17/100\n",
            "33/33 [==============================] - 1s 27ms/step - loss: 0.7433 - acc: 0.7473 - val_loss: 2.8750 - val_acc: 0.3000\n",
            "Epoch 18/100\n",
            "33/33 [==============================] - 1s 28ms/step - loss: 0.5664 - acc: 0.7411 - val_loss: 2.3152 - val_acc: 0.3000\n",
            "Epoch 19/100\n",
            "33/33 [==============================] - 1s 28ms/step - loss: 0.8187 - acc: 0.7180 - val_loss: 2.5156 - val_acc: 0.4000\n",
            "Epoch 20/100\n",
            "33/33 [==============================] - 1s 28ms/step - loss: 0.7341 - acc: 0.7273 - val_loss: 2.4578 - val_acc: 0.3000\n",
            "Epoch 21/100\n",
            "33/33 [==============================] - 1s 28ms/step - loss: 0.6831 - acc: 0.7673 - val_loss: 4.2814 - val_acc: 0.2000\n",
            "Epoch 22/100\n",
            "33/33 [==============================] - 1s 28ms/step - loss: 0.7686 - acc: 0.7350 - val_loss: 2.2879 - val_acc: 0.4000\n",
            "Epoch 23/100\n",
            "33/33 [==============================] - 1s 28ms/step - loss: 0.4700 - acc: 0.7673 - val_loss: 2.6957 - val_acc: 0.3000\n",
            "Epoch 24/100\n",
            "33/33 [==============================] - 1s 28ms/step - loss: 0.7667 - acc: 0.7196 - val_loss: 2.6497 - val_acc: 0.3000\n",
            "Epoch 25/100\n",
            "33/33 [==============================] - 1s 28ms/step - loss: 0.9749 - acc: 0.7072 - val_loss: 2.5269 - val_acc: 0.3000\n",
            "Epoch 26/100\n",
            "33/33 [==============================] - 1s 28ms/step - loss: 0.5389 - acc: 0.7843 - val_loss: 2.5938 - val_acc: 0.3000\n",
            "Epoch 27/100\n",
            "33/33 [==============================] - 1s 28ms/step - loss: 0.6693 - acc: 0.7643 - val_loss: 2.3492 - val_acc: 0.5000\n",
            "Epoch 28/100\n",
            "33/33 [==============================] - 1s 27ms/step - loss: 0.7130 - acc: 0.7473 - val_loss: 2.7756 - val_acc: 0.3000\n",
            "Epoch 29/100\n",
            "33/33 [==============================] - 1s 28ms/step - loss: 0.5760 - acc: 0.7673 - val_loss: 2.7408 - val_acc: 0.3000\n",
            "Epoch 30/100\n",
            "33/33 [==============================] - 1s 28ms/step - loss: 0.5647 - acc: 0.7720 - val_loss: 4.1447 - val_acc: 0.2000\n",
            "Epoch 31/100\n",
            "33/33 [==============================] - 1s 28ms/step - loss: 1.0929 - acc: 0.7103 - val_loss: 2.6172 - val_acc: 0.3000\n",
            "Epoch 32/100\n",
            "33/33 [==============================] - 1s 28ms/step - loss: 0.6210 - acc: 0.7673 - val_loss: 3.1191 - val_acc: 0.3000\n",
            "Epoch 33/100\n",
            "33/33 [==============================] - 1s 28ms/step - loss: 0.5557 - acc: 0.7827 - val_loss: 2.9385 - val_acc: 0.3000\n",
            "Epoch 34/100\n",
            "33/33 [==============================] - 1s 28ms/step - loss: 0.6934 - acc: 0.7535 - val_loss: 2.7673 - val_acc: 0.3000\n",
            "Epoch 35/100\n",
            "33/33 [==============================] - 1s 27ms/step - loss: 0.5204 - acc: 0.7627 - val_loss: 2.8648 - val_acc: 0.3000\n",
            "Epoch 36/100\n",
            "33/33 [==============================] - 1s 28ms/step - loss: 0.4640 - acc: 0.7935 - val_loss: 2.4368 - val_acc: 0.3000\n",
            "Epoch 37/100\n",
            "33/33 [==============================] - 1s 27ms/step - loss: 0.6395 - acc: 0.7658 - val_loss: 2.4376 - val_acc: 0.3000\n",
            "Epoch 38/100\n",
            "33/33 [==============================] - 1s 28ms/step - loss: 0.4722 - acc: 0.7766 - val_loss: 2.9563 - val_acc: 0.3000\n",
            "Epoch 39/100\n",
            "33/33 [==============================] - 1s 28ms/step - loss: 0.4601 - acc: 0.7827 - val_loss: 2.6530 - val_acc: 0.5000\n",
            "Epoch 40/100\n",
            "33/33 [==============================] - 1s 28ms/step - loss: 0.5688 - acc: 0.7827 - val_loss: 2.6568 - val_acc: 0.3000\n",
            "Epoch 41/100\n",
            "33/33 [==============================] - 1s 28ms/step - loss: 0.5606 - acc: 0.7843 - val_loss: 3.8503 - val_acc: 0.2000\n",
            "Epoch 42/100\n",
            "33/33 [==============================] - 1s 28ms/step - loss: 0.6689 - acc: 0.7427 - val_loss: 2.5791 - val_acc: 0.4000\n",
            "Epoch 43/100\n",
            "33/33 [==============================] - 1s 29ms/step - loss: 0.6467 - acc: 0.7658 - val_loss: 2.6006 - val_acc: 0.3000\n",
            "Epoch 44/100\n",
            "33/33 [==============================] - 1s 28ms/step - loss: 0.7364 - acc: 0.7750 - val_loss: 3.2439 - val_acc: 0.2000\n",
            "Epoch 45/100\n",
            "33/33 [==============================] - 1s 28ms/step - loss: 0.7710 - acc: 0.7797 - val_loss: 4.0538 - val_acc: 0.2000\n",
            "Epoch 46/100\n",
            "33/33 [==============================] - 1s 28ms/step - loss: 0.5732 - acc: 0.7858 - val_loss: 2.6657 - val_acc: 0.3000\n",
            "Epoch 47/100\n",
            "33/33 [==============================] - 1s 27ms/step - loss: 0.5716 - acc: 0.7889 - val_loss: 2.5760 - val_acc: 0.3000\n",
            "Epoch 48/100\n",
            "33/33 [==============================] - 1s 28ms/step - loss: 0.4561 - acc: 0.7827 - val_loss: 3.0856 - val_acc: 0.3000\n",
            "Epoch 49/100\n",
            "33/33 [==============================] - 1s 28ms/step - loss: 0.4638 - acc: 0.7535 - val_loss: 2.7330 - val_acc: 0.3000\n",
            "Epoch 50/100\n",
            "33/33 [==============================] - 1s 28ms/step - loss: 0.4254 - acc: 0.7843 - val_loss: 2.8584 - val_acc: 0.3000\n",
            "Epoch 51/100\n",
            "33/33 [==============================] - 1s 28ms/step - loss: 0.6635 - acc: 0.7735 - val_loss: 2.9437 - val_acc: 0.3000\n",
            "Epoch 52/100\n",
            "33/33 [==============================] - 1s 28ms/step - loss: 0.4649 - acc: 0.7858 - val_loss: 3.0082 - val_acc: 0.3000\n",
            "Epoch 53/100\n",
            "33/33 [==============================] - 1s 28ms/step - loss: 0.8355 - acc: 0.7550 - val_loss: 3.0096 - val_acc: 0.3000\n",
            "Epoch 54/100\n",
            "33/33 [==============================] - 1s 29ms/step - loss: 0.5687 - acc: 0.7781 - val_loss: 2.5131 - val_acc: 0.5000\n",
            "Epoch 55/100\n",
            "33/33 [==============================] - 1s 28ms/step - loss: 0.4954 - acc: 0.7735 - val_loss: 2.6799 - val_acc: 0.3000\n",
            "Epoch 56/100\n",
            "33/33 [==============================] - 1s 28ms/step - loss: 0.5766 - acc: 0.7858 - val_loss: 3.0305 - val_acc: 0.3000\n",
            "Epoch 57/100\n",
            "33/33 [==============================] - 1s 28ms/step - loss: 0.5942 - acc: 0.7658 - val_loss: 2.9270 - val_acc: 0.3000\n",
            "Epoch 58/100\n",
            "33/33 [==============================] - 1s 28ms/step - loss: 0.4668 - acc: 0.7889 - val_loss: 2.8461 - val_acc: 0.3000\n",
            "Epoch 59/100\n",
            "33/33 [==============================] - 1s 28ms/step - loss: 0.4855 - acc: 0.7889 - val_loss: 2.7158 - val_acc: 0.4000\n",
            "Epoch 60/100\n",
            "33/33 [==============================] - 1s 28ms/step - loss: 0.5319 - acc: 0.7781 - val_loss: 2.8357 - val_acc: 0.3000\n",
            "Epoch 61/100\n",
            "33/33 [==============================] - 1s 28ms/step - loss: 0.7153 - acc: 0.7627 - val_loss: 4.5160 - val_acc: 0.2000\n",
            "Epoch 62/100\n",
            "33/33 [==============================] - 1s 28ms/step - loss: 0.7266 - acc: 0.7411 - val_loss: 2.7294 - val_acc: 0.3000\n",
            "Epoch 63/100\n",
            "33/33 [==============================] - 1s 28ms/step - loss: 0.4493 - acc: 0.7689 - val_loss: 3.1456 - val_acc: 0.3000\n",
            "Epoch 64/100\n",
            "33/33 [==============================] - 1s 28ms/step - loss: 0.4361 - acc: 0.7627 - val_loss: 2.5569 - val_acc: 0.3000\n",
            "Epoch 65/100\n",
            "33/33 [==============================] - 1s 30ms/step - loss: 0.4426 - acc: 0.7735 - val_loss: 3.2124 - val_acc: 0.3000\n",
            "Epoch 66/100\n",
            "33/33 [==============================] - 1s 29ms/step - loss: 0.5518 - acc: 0.7720 - val_loss: 2.8117 - val_acc: 0.3000\n",
            "Epoch 67/100\n",
            "33/33 [==============================] - 1s 29ms/step - loss: 0.4398 - acc: 0.7874 - val_loss: 2.8043 - val_acc: 0.3000\n",
            "Epoch 68/100\n",
            "33/33 [==============================] - 1s 28ms/step - loss: 0.6477 - acc: 0.7550 - val_loss: 2.7280 - val_acc: 0.3000\n",
            "Epoch 69/100\n",
            "33/33 [==============================] - 1s 28ms/step - loss: 0.7012 - acc: 0.7781 - val_loss: 2.5707 - val_acc: 0.3000\n",
            "Epoch 70/100\n",
            "33/33 [==============================] - 1s 27ms/step - loss: 0.4064 - acc: 0.7935 - val_loss: 2.6815 - val_acc: 0.3000\n",
            "Epoch 71/100\n",
            "33/33 [==============================] - 1s 28ms/step - loss: 0.4229 - acc: 0.7951 - val_loss: 2.7577 - val_acc: 0.3000\n",
            "Epoch 72/100\n",
            "33/33 [==============================] - 1s 28ms/step - loss: 0.4487 - acc: 0.7812 - val_loss: 2.7493 - val_acc: 0.3000\n",
            "Epoch 73/100\n",
            "33/33 [==============================] - 1s 28ms/step - loss: 0.7055 - acc: 0.7720 - val_loss: 2.8354 - val_acc: 0.3000\n",
            "Epoch 74/100\n",
            "33/33 [==============================] - 1s 28ms/step - loss: 0.4812 - acc: 0.7643 - val_loss: 2.6573 - val_acc: 0.3000\n",
            "Epoch 75/100\n",
            "33/33 [==============================] - 1s 29ms/step - loss: 0.4903 - acc: 0.7766 - val_loss: 2.7346 - val_acc: 0.3000\n",
            "Epoch 76/100\n",
            "33/33 [==============================] - 1s 29ms/step - loss: 0.7142 - acc: 0.7596 - val_loss: 2.6243 - val_acc: 0.3000\n",
            "Epoch 77/100\n",
            "33/33 [==============================] - 1s 28ms/step - loss: 0.7034 - acc: 0.7735 - val_loss: 2.5621 - val_acc: 0.3000\n",
            "Epoch 78/100\n",
            "33/33 [==============================] - 1s 29ms/step - loss: 0.4015 - acc: 0.7781 - val_loss: 2.5043 - val_acc: 0.5000\n",
            "Epoch 79/100\n",
            "33/33 [==============================] - 1s 29ms/step - loss: 0.4911 - acc: 0.7735 - val_loss: 2.8652 - val_acc: 0.3000\n",
            "Epoch 80/100\n",
            "33/33 [==============================] - 1s 28ms/step - loss: 0.5752 - acc: 0.7627 - val_loss: 2.5220 - val_acc: 0.3000\n",
            "Epoch 81/100\n",
            "33/33 [==============================] - 1s 28ms/step - loss: 0.6939 - acc: 0.7565 - val_loss: 2.5684 - val_acc: 0.3000\n",
            "Epoch 82/100\n",
            "33/33 [==============================] - 1s 28ms/step - loss: 0.6756 - acc: 0.7581 - val_loss: 2.5415 - val_acc: 0.3000\n",
            "Epoch 83/100\n",
            "33/33 [==============================] - 1s 28ms/step - loss: 0.4192 - acc: 0.7750 - val_loss: 2.7714 - val_acc: 0.3000\n",
            "Epoch 84/100\n",
            "33/33 [==============================] - 1s 28ms/step - loss: 0.4097 - acc: 0.7827 - val_loss: 2.6948 - val_acc: 0.3000\n",
            "Epoch 85/100\n",
            "33/33 [==============================] - 1s 28ms/step - loss: 0.4938 - acc: 0.7535 - val_loss: 2.6284 - val_acc: 0.3000\n",
            "Epoch 86/100\n",
            "33/33 [==============================] - 1s 28ms/step - loss: 0.4279 - acc: 0.7935 - val_loss: 2.7832 - val_acc: 0.3000\n",
            "Epoch 87/100\n",
            "33/33 [==============================] - 1s 29ms/step - loss: 0.4370 - acc: 0.7689 - val_loss: 2.8097 - val_acc: 0.3000\n",
            "Epoch 88/100\n",
            "33/33 [==============================] - 1s 28ms/step - loss: 0.5012 - acc: 0.7874 - val_loss: 2.6448 - val_acc: 0.3000\n",
            "Epoch 89/100\n",
            "33/33 [==============================] - 1s 28ms/step - loss: 0.3641 - acc: 0.7858 - val_loss: 2.5517 - val_acc: 0.3000\n",
            "Epoch 90/100\n",
            "33/33 [==============================] - 1s 28ms/step - loss: 0.4339 - acc: 0.7781 - val_loss: 2.7936 - val_acc: 0.3000\n",
            "Epoch 91/100\n",
            "33/33 [==============================] - 1s 28ms/step - loss: 0.5379 - acc: 0.7827 - val_loss: 3.2282 - val_acc: 0.2000\n",
            "Epoch 92/100\n",
            "33/33 [==============================] - 1s 29ms/step - loss: 0.6174 - acc: 0.7627 - val_loss: 2.8777 - val_acc: 0.3000\n",
            "Epoch 93/100\n",
            "33/33 [==============================] - 1s 29ms/step - loss: 0.6728 - acc: 0.7658 - val_loss: 2.6737 - val_acc: 0.3000\n",
            "Epoch 94/100\n",
            "33/33 [==============================] - 1s 28ms/step - loss: 0.7136 - acc: 0.7735 - val_loss: 3.1243 - val_acc: 0.2000\n",
            "Epoch 95/100\n",
            "33/33 [==============================] - 1s 28ms/step - loss: 0.6164 - acc: 0.7720 - val_loss: 2.6112 - val_acc: 0.4000\n",
            "Epoch 96/100\n",
            "33/33 [==============================] - 1s 28ms/step - loss: 0.6340 - acc: 0.7874 - val_loss: 3.8237 - val_acc: 0.1000\n",
            "Epoch 97/100\n",
            "33/33 [==============================] - 1s 28ms/step - loss: 0.5445 - acc: 0.7735 - val_loss: 2.6509 - val_acc: 0.3000\n",
            "Epoch 98/100\n",
            "33/33 [==============================] - 1s 28ms/step - loss: 0.4969 - acc: 0.7720 - val_loss: 2.5644 - val_acc: 0.5000\n",
            "Epoch 99/100\n",
            "33/33 [==============================] - 1s 28ms/step - loss: 0.6010 - acc: 0.7704 - val_loss: 3.2226 - val_acc: 0.2000\n",
            "Epoch 100/100\n",
            "33/33 [==============================] - 1s 28ms/step - loss: 0.6959 - acc: 0.7643 - val_loss: 2.6596 - val_acc: 0.3000\n"
          ]
        }
      ]
    },
    {
      "cell_type": "code",
      "source": [
        "plt.style.use(\"ggplot\")\n",
        "plt.figure()\n",
        "plt.plot(np.arange(0, 100), H.history[\"loss\"], label=\"train_loss\")\n",
        "plt.plot(np.arange(0, 100), H.history[\"val_loss\"], label=\"val_loss\")\n",
        "plt.title(\"Loss Plot\")\n",
        "plt.xlabel(\"Epoch #\")\n",
        "plt.ylabel(\"Loss\")\n",
        "plt.legend()\n",
        "plt.show()\n",
        "\n",
        "plt.style.use(\"ggplot\")\n",
        "plt.figure()\n",
        "plt.plot(np.arange(0, 100), H.history[\"acc\"], label=\"train_acc\")\n",
        "plt.plot(np.arange(0, 100), H.history[\"val_acc\"], label=\"val_acc\")\n",
        "plt.title(\"Accuracy Plot\")\n",
        "plt.xlabel(\"Epoch #\")\n",
        "plt.ylabel(\"Acc\")\n",
        "plt.legend()\n",
        "plt.show()"
      ],
      "metadata": {
        "colab": {
          "base_uri": "https://localhost:8080/",
          "height": 581
        },
        "id": "XkQYA3rvjYE0",
        "outputId": "8187dc85-83f2-4649-d373-d0ff6387af02"
      },
      "execution_count": 29,
      "outputs": [
        {
          "output_type": "display_data",
          "data": {
            "image/png": "[encoded data removed]",
            "text/plain": [
              "<Figure size 432x288 with 1 Axes>"
            ]
          },
          "metadata": {}
        },
        {
          "output_type": "display_data",
          "data": {
            "image/png": "[encoded data removed]",
            "text/plain": [
              "<Figure size 432x288 with 1 Axes>"
            ]
          },
          "metadata": {}
        }
      ]
    },
    {
      "cell_type": "code",
      "source": [
        "from sklearn.metrics import classification_report\n",
        "\n",
        "pred = model.predict(x_test)\n",
        "labels = (pred > 0.5).astype(np.int)\n",
        "\n",
        "print(classification_report(y_test, labels))"
      ],
      "metadata": {
        "colab": {
          "base_uri": "https://localhost:8080/"
        },
        "id": "In2jgF1ojcrb",
        "outputId": "02d0d391-22c5-40a6-c6b0-8bb4efa486b5"
      },
      "execution_count": 30,
      "outputs": [
        {
          "output_type": "stream",
          "name": "stdout",
          "text": [
            "              precision    recall  f1-score   support\n",
            "\n",
            "           0       0.00      0.00      0.00         3\n",
            "           1       0.50      0.43      0.46         7\n",
            "\n",
            "    accuracy                           0.30        10\n",
            "   macro avg       0.25      0.21      0.23        10\n",
            "weighted avg       0.35      0.30      0.32        10\n",
            "\n"
          ]
        }
      ]
    },
    {
      "cell_type": "code",
      "source": [
        "from keras.models import save_model\n",
        "model = save_model(model,'AnnMl.h5')"
      ],
      "metadata": {
        "id": "fUP8XOgGjgqD"
      },
      "execution_count": 31,
      "outputs": []
    }
  ]
}